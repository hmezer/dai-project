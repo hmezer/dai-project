{
 "cells": [
  {
   "cell_type": "code",
   "execution_count": 38,
   "id": "297c9f11-32ee-4690-b451-f03a98a63708",
   "metadata": {},
   "outputs": [
    {
     "name": "stdout",
     "output_type": "stream",
     "text": [
      "Requirement already satisfied: beautifulsoup4 in /opt/conda/lib/python3.11/site-packages (4.12.2)\n",
      "Requirement already satisfied: soupsieve>1.2 in /opt/conda/lib/python3.11/site-packages (from beautifulsoup4) (2.3.2.post1)\n"
     ]
    }
   ],
   "source": [
    "!pip install beautifulsoup4"
   ]
  },
  {
   "cell_type": "markdown",
   "id": "af81e450-b7ee-4e92-9136-e4a1028ea0eb",
   "metadata": {},
   "source": [
    "**index**"
   ]
  },
  {
   "cell_type": "code",
   "execution_count": 48,
   "id": "d56bc13f-50db-4f86-9854-e435a1ce8b4c",
   "metadata": {},
   "outputs": [
    {
     "name": "stdout",
     "output_type": "stream",
     "text": [
      "2004-structured-data.jsonl  2014-structured-data.jsonl\n",
      "2005-structured-data.jsonl  2015-structured-data.jsonl\n",
      "2006-structured-data.jsonl  2016-structured-data.jsonl\n",
      "2007-structured-data.jsonl  2017-structured-data.jsonl\n",
      "2008-structured-data.jsonl  2018-structured-data.jsonl\n",
      "2009-structured-data.jsonl  2019-structured-data.jsonl\n",
      "2010-structured-data.jsonl  2020-structured-data.jsonl\n",
      "2011-structured-data.jsonl  2021-structured-data.jsonl\n",
      "2012-structured-data.jsonl  2022-structured-data.jsonl\n",
      "2013-structured-data.jsonl  2023-structured-data.jsonl\n"
     ]
    }
   ],
   "source": [
    "!ls ../../data/SEC-API.io/form-8k-filings/item-4.02-structured-data/"
   ]
  },
  {
   "cell_type": "markdown",
   "id": "2e5c286f-61d0-43e6-9c51-2eca4d2bec8e",
   "metadata": {},
   "source": [
    "**13D-13G Filings**"
   ]
  },
  {
   "cell_type": "code",
   "execution_count": 39,
   "id": "cc7e0529-f964-4182-b06b-11e222396031",
   "metadata": {},
   "outputs": [],
   "source": [
    "import gzip\n",
    "import json\n",
    "import os # For creating dummy files\n",
    "from bs4 import BeautifulSoup\n",
    "\n",
    "def read_json_file(filepath):\n",
    "    \"\"\"\n",
    "    Reads a standard JSON file and returns the parsed Python object (dict or list).\n",
    "    \"\"\"\n",
    "    with open(filepath, 'r', encoding='utf-8') as f:\n",
    "        try:\n",
    "            data = json.load(f)\n",
    "            return data\n",
    "        except json.JSONDecodeError as e:\n",
    "            print(f\"Error decoding JSON from file '{filepath}'. Error: {e}\")\n",
    "            return None\n",
    "        except FileNotFoundError:\n",
    "            print(f\"File not found: '{filepath}'\")\n",
    "            return None\n",
    "\n",
    "def read_jsonl_line_by_line(filepath):\n",
    "    \"\"\"\n",
    "    Reads a JSONL file line by line and yields each JSON object.\n",
    "    \"\"\"\n",
    "    with open(filepath, 'r', encoding='utf-8') as f:\n",
    "        for line in f:\n",
    "            # Skip empty lines if any\n",
    "            if line.strip():\n",
    "                try:\n",
    "                    yield json.loads(line.strip())\n",
    "                except json.JSONDecodeError as e:\n",
    "                    print(f\"Error decoding JSON on line: {line.strip()}. Error: {e}\")\n",
    "\n",
    "def read_single_json_gz(filepath):\n",
    "    \"\"\"\n",
    "    Reads a .json.gz file containing a single JSON object or array.\n",
    "    \"\"\"\n",
    "    try:\n",
    "        # Open the gzipped file in text mode ('rt') for automatic decompression and text decoding\n",
    "        with gzip.open(filepath, 'rt', encoding='utf-8') as f:\n",
    "            data = json.load(f) # json.load directly reads from the file-like object\n",
    "            return data\n",
    "    except FileNotFoundError:\n",
    "        print(f\"Error: File not found at '{filepath}'\")\n",
    "        return None\n",
    "    except json.JSONDecodeError as e:\n",
    "        print(f\"Error decoding JSON from '{filepath}': {e}\")\n",
    "        return None\n",
    "    except Exception as e:\n",
    "        print(f\"An unexpected error occurred: {e}\")\n",
    "        return None\n",
    "\n",
    "def pretty_print_html(filepath):\n",
    "  \"\"\"\n",
    "  Reads an HTML file and pretty prints its content.\n",
    "  \"\"\"\n",
    "  with open(filepath, 'r', encoding='utf-8') as f:\n",
    "    soup = BeautifulSoup(f, 'html.parser')\n",
    "    print(soup.prettify())"
   ]
  },
  {
   "cell_type": "code",
   "execution_count": 14,
   "id": "2bafb241-7028-4cde-bc50-11646cf43ffe",
   "metadata": {},
   "outputs": [
    {
     "name": "stdout",
     "output_type": "stream",
     "text": [
      "Number of JSON objects restored: 196333\n"
     ]
    }
   ],
   "source": [
    "# Example Usage:\n",
    "file_path = '../../data/SEC-API.io/13d-13g-filings/13d-1994-2024.jsonl'\n",
    "\n",
    "# You can also store them in a list if the file is not too large\n",
    "all_records = list(read_jsonl_line_by_line(file_path))\n",
    "print(f\"Number of JSON objects restored: {len(all_records)}\")"
   ]
  },
  {
   "cell_type": "code",
   "execution_count": 8,
   "id": "0bf7fabb-74d2-4077-9018-33baf232a841",
   "metadata": {},
   "outputs": [
    {
     "data": {
      "text/plain": [
       "{'id': '81cca9fe3afe8faa5e5cec80ce0af64d',\n",
       " 'accessionNo': '0000950109-94-002419',\n",
       " 'formType': 'SC 13D/A',\n",
       " 'filedAt': '1994-12-30T00:00:00-05:00',\n",
       " 'filers': [{'cik': '50957', 'name': 'INTERCO INC (Subject)'},\n",
       "  {'cik': '916151', 'name': 'APOLLO INTERCO PARTNERS L P (Filed by)'}],\n",
       " 'nameOfIssuer': 'INTERCO INCORPORATED -',\n",
       " 'titleOfSecurities': 'Common Stock -',\n",
       " 'cusip': ['458507100'],\n",
       " 'eventDate': '1994-12-23',\n",
       " 'schedule13GFiledPreviously': True,\n",
       " 'owners': [{'name': 'Apollo Interco Partners, L.P. -',\n",
       "   'memberOfGroup': {'a': False, 'b': False},\n",
       "   'sourceOfFunds': ['SC'],\n",
       "   'place': 'Delaware -',\n",
       "   'soleVotingPower': 0,\n",
       "   'sharedVotingPower': 0,\n",
       "   'soleDispositivePower': 0,\n",
       "   'sharedDispositivePower': 0,\n",
       "   'aggregateAmountOwned': 0,\n",
       "   'amountExcludesCertainShares': False,\n",
       "   'amountAsPercent': 0,\n",
       "   'typeOfReportingPerson': ['PN'],\n",
       "   'legalProceedingsDisclosureRequired': False}]}"
      ]
     },
     "execution_count": 8,
     "metadata": {},
     "output_type": "execute_result"
    }
   ],
   "source": [
    "all_records[0]"
   ]
  },
  {
   "cell_type": "markdown",
   "id": "2d86fb98-13b1-4826-820b-8f090df725c3",
   "metadata": {},
   "source": [
    "**13F Filings**"
   ]
  },
  {
   "cell_type": "code",
   "execution_count": 17,
   "id": "209addb0-0cbd-42be-b2f2-5faaeeba90cb",
   "metadata": {},
   "outputs": [
    {
     "data": {
      "text/plain": [
       "{'headerData': {'submissionType': '13F-HR',\n",
       "  'filerCik': 1000097,\n",
       "  'periodOfReport': '06-30-2013',\n",
       "  'accessionNo': '0000919574-13-005176',\n",
       "  'filedAt': '2013-08-14T18:14:43-04:00'},\n",
       " 'formData': {'coverPage': {'reportCalendarOrQuarter': '06-30-2013',\n",
       "   'isAmendment': False,\n",
       "   'filingManager': {'name': 'KINGDON CAPITAL MANAGEMENT, L.L.C.',\n",
       "    'address': {'ns1:street1': '152 West 57th Street',\n",
       "     'ns1:street2': '50th Floor',\n",
       "     'ns1:city': 'New York',\n",
       "     'ns1:stateOrCountry': 'NY',\n",
       "     'ns1:zipCode': 10019}},\n",
       "   'reportType': '13F HOLDINGS REPORT',\n",
       "   'form13FFileNumber': '028-04575',\n",
       "   'provideInfoForInstruction5': 'N'},\n",
       "  'signatureBlock': {'name': 'William Walsh',\n",
       "   'title': 'Chief Financial Officer',\n",
       "   'phone': '212-333-0100',\n",
       "   'signature': '/s/ William Walsh',\n",
       "   'city': 'New York',\n",
       "   'stateOrCountry': 'NY',\n",
       "   'signatureDate': '08-14-2013'},\n",
       "  'summaryPage': {'otherIncludedManagersCount': 3,\n",
       "   'tableEntryTotal': 195,\n",
       "   'tableValueTotal': 1690760,\n",
       "   'otherManagers2Info': {'otherManager2': [{'sequenceNumber': 1,\n",
       "      'otherManager': {'cik': 718801,\n",
       "       'form13FFileNumber': '028-10584',\n",
       "       'name': 'Kingdon Associates'}},\n",
       "     {'sequenceNumber': 2,\n",
       "      'otherManager': {'cik': 1499251,\n",
       "       'form13FFileNumber': '028-13996',\n",
       "       'name': 'M. Kingdon Offshore Master Fund L.P.'}},\n",
       "     {'sequenceNumber': 3,\n",
       "      'otherManager': {'cik': 909621,\n",
       "       'form13FFileNumber': '028-10842',\n",
       "       'name': 'Kingdon Family Partnership, L.P.'}}]},\n",
       "   'tableValueTotalStandardized': 1690760000}}}"
      ]
     },
     "execution_count": 17,
     "metadata": {},
     "output_type": "execute_result"
    }
   ],
   "source": [
    "file_path = '../../data/SEC-API.io/13f-filings/13f-cover-pages-2013-2023/1000097/0000919574-13-005176.json'\n",
    "\n",
    "json_obj = read_json_file(file_path)\n",
    "\n",
    "json_obj"
   ]
  },
  {
   "cell_type": "markdown",
   "id": "8c10bf51-07b6-4f0c-9d54-9217423c1cae",
   "metadata": {},
   "source": [
    "**filing metadata**"
   ]
  },
  {
   "cell_type": "code",
   "execution_count": 28,
   "id": "ffdf9a84-c613-473a-a371-17ebf2d16914",
   "metadata": {},
   "outputs": [
    {
     "name": "stdout",
     "output_type": "stream",
     "text": [
      "Number of JSON objects restored: 3044\n",
      "\n",
      "\n",
      "{'ticker': '', 'formType': '35-CERT', 'accessionNo': '0000007323-94-000008', 'cik': '96035', 'companyName': 'SYSTEM FUELS INC', 'linkToFilingDetails': 'https://www.sec.gov/Archives/edgar/data/96035/', 'description': 'Form 35-CERT - Certificate, terms and conditions [Rule 24]', 'linkToTxt': 'https://www.sec.gov/Archives/edgar/data/96035/0000007323-94-000008.txt', 'filedAt': '1994-01-31T00:00:00-05:00', 'documentFormatFiles': [{'sequence': '1', 'size': '18199', 'documentUrl': 'https://www.sec.gov/Archives/edgar/data/96035/', 'description': 'FILE NO. 70-7668', 'type': '35-CERT'}, {'sequence': '\\xa0', 'size': '19530', 'documentUrl': 'https://www.sec.gov/Archives/edgar/data/96035/0000007323-94-000008.txt', 'description': 'Complete submission text file', 'type': '\\xa0'}], 'entities': [{'fiscalYearEnd': '1231', 'stateOfIncorporation': 'LA', 'act': '35', 'cik': '96035', 'fileNo': '070-07668', 'companyName': 'SYSTEM FUELS INC (Filer)', 'type': '35-CERT', 'sic': '0000', 'filmNo': '94503921'}], 'id': '9b9db154da4295f8915fe74a8df660b0', 'seriesAndClassesContractsInformation': [], 'linkToHtml': 'https://www.sec.gov/Archives/edgar/data/96035/0000007323-94-000008-index.htm', 'dataFiles': []}\n"
     ]
    }
   ],
   "source": [
    "file_path = \"../../data/SEC-API.io/filing-metadata/1994/1994-01.json.gz\"\n",
    "\n",
    "json_obj = read_single_json_gz(file_path)\n",
    "print(f\"Number of JSON objects restored: {len(json_obj)}\\n\\n\")\n",
    "print(json_obj[0])"
   ]
  },
  {
   "cell_type": "markdown",
   "id": "7a88153f-4070-4714-b749-294537046bf1",
   "metadata": {},
   "source": [
    "**8-K Filings**"
   ]
  },
  {
   "cell_type": "code",
   "execution_count": 41,
   "id": "b88b56c3-4df6-4815-a5fd-b6181f015920",
   "metadata": {},
   "outputs": [
    {
     "name": "stdout",
     "output_type": "stream",
     "text": [
      "<span style=\"background-color:rgba(0,0,0,0);color:rgba(0,0,0,1);white-space:pre-wrap;font-weight:bold;font-size:10.0pt;font-family:Times New Roman;\">\n",
      " Item 7.01 Regulation FD Disclosure\n",
      "</span>\n",
      "<span style=\"color:rgba(0,0,0,1);white-space:pre-wrap;font-weight:bold;font-size:10.0pt;font-family:Times New Roman;\">\n",
      "</span>\n",
      "<p style=\"text-indent:0.0%;font-size:10.0pt;margin-top:6.0pt;line-height:1.3;font-family:Times New Roman;margin-bottom:0.0pt;text-align:left;\">\n",
      " <span style=\"background-color:rgba(0,0,0,0);color:rgba(0,0,0,1);white-space:pre-wrap;font-weight:normal;font-size:10.0pt;font-family:Times New Roman;\">\n",
      "  On September 2, 2021, the Company used an investor slide deck at its Annual General Meeting of Shareholders, which is attached hereto as Exhibit 99.1.\n",
      " </span>\n",
      "</p>\n",
      "<p style=\"text-indent:0.0%;font-size:10.0pt;margin-top:6.0pt;line-height:1.3;font-family:Times New Roman;margin-bottom:0.0pt;text-align:left;\">\n",
      " <span style=\"white-space:pre-wrap;font-size:10.0pt;font-family:Times New Roman;\">\n",
      " </span>\n",
      "</p>\n",
      "<p style=\"text-indent:0.0%;font-size:10.0pt;margin-top:6.0pt;line-height:1.3;font-family:Times New Roman;margin-bottom:0.0pt;text-align:left;\">\n",
      "</p>\n",
      "\n"
     ]
    }
   ],
   "source": [
    "file_path = \"../../data/SEC-API.io/filing-sections/8-K/1000045/000095017021001640-item7-1.html\"\n",
    "\n",
    "pretty_print_html(file_path)"
   ]
  },
  {
   "cell_type": "markdown",
   "id": "f7ef6603-8cd3-404a-bffd-349b23acf2b3",
   "metadata": {},
   "source": [
    "**"
   ]
  },
  {
   "cell_type": "code",
   "execution_count": 53,
   "id": "b4ddac12-1fd9-4dda-813c-4652ce2c01fc",
   "metadata": {},
   "outputs": [
    {
     "name": "stdout",
     "output_type": "stream",
     "text": [
      "172 many JSON objects are restored.\n",
      "\n",
      "\n",
      "{'id': 'e05640114bc8c08a0407d75811e84ab8', 'accessionNo': '0000898080-04-000677', 'formType': '8-K', 'filedAt': '2004-12-30T17:01:53-05:00', 'periodOfReport': '2004-12-30', 'cik': '1064122', 'ticker': '', 'companyName': 'SCOTTISH RE GROUP LTD', 'items': ['Item 4.02: Non-Reliance on Previously Issued Financial Statements or a Related Audit Report or Completed Interim Review'], 'item4_02': {'keyComponents': \"Scottish Re Group Limited determined that its International Segment had incorrectly reported premiums earned, claims and other policy benefits, acquisition costs and other insurance expenses and related income tax benefits in the quarters ended June 30, 2004 and September 30, 2004. The errors were made in the process of compiling income statement information on the accrual of premiums and resulted from incorrect references within the spreadsheets used to calculate these accruals. The errors were detected by management as part of their ongoing documentation and testing of internal controls over financial reporting for Sarbanes Oxley Section 404 reporting. The Company's Audit Committee determined it was appropriate to amend the previously filed consolidated financial statements contained in the Company's second and third quarter 2004 Form 10-Qs to reflect changes that correct these errors.\", 'identifiedIssues': ['Incorrectly reported premiums earned', 'Incorrectly reported claims and other policy benefits', 'Incorrectly reported acquisition costs and other insurance expenses', 'Incorrectly reported related income tax benefits'], 'affectedReportingPeriods': ['Q2 2004', 'Q3 2004'], 'identifiedBy': ['Company'], 'restatementIsNecessary': True, 'reasonsForRestatement': ['Incorrect references within the spreadsheets used to calculate accruals'], 'impactYetToBeDetermined': False, 'impactOfError': \"Understated net income by $1.1 million in Q2 2004, overstated net income by $1.2 million in Q3 2004, overstated net income by $112,000 in the nine months ended September 30, 2004, and overstated shareholders' equity at September 30, 2004 by $112,000.\", 'impactIsMaterial': True, 'materialWeaknessIdentified': False, 'auditors': ['Ernst & Young LLP'], 'affectedLineItems': ['Premiums Earned', 'Claims and Other Policy Benefits', 'Acquisition Costs', 'Other Insurance Expenses', 'Income Tax Benefits', 'Net Income', \"Shareholders' Equity\"], 'netIncomeDecreased': True, 'netIncomeIncreased': True, 'netIncomeAdjustment': '', 'revenueDecreased': False, 'revenueIncreased': False, 'revenueAdjustment': '', 'eventClassification': 'Financial Restatement Due to Revenue Recognition Errors'}}\n"
     ]
    }
   ],
   "source": [
    "file_path = \"../../data/SEC-API.io/form-8k-filings/item-4.02-structured-data/2004-structured-data.jsonl\"\n",
    "\n",
    "json_list = [obj for obj in read_jsonl_line_by_line(file_path)]\n",
    "print(f\"{len(json_list)} many JSON objects are restored.\\n\\n\")\n",
    "print(json_list[0])"
   ]
  },
  {
   "cell_type": "code",
   "execution_count": null,
   "id": "ceb1615e-9cc0-45f8-b3ef-ece312653c23",
   "metadata": {},
   "outputs": [],
   "source": []
  }
 ],
 "metadata": {
  "kernelspec": {
   "display_name": "Python 3 (ipykernel)",
   "language": "python",
   "name": "python3"
  },
  "language_info": {
   "codemirror_mode": {
    "name": "ipython",
    "version": 3
   },
   "file_extension": ".py",
   "mimetype": "text/x-python",
   "name": "python",
   "nbconvert_exporter": "python",
   "pygments_lexer": "ipython3",
   "version": "3.11.4"
  }
 },
 "nbformat": 4,
 "nbformat_minor": 5
}
