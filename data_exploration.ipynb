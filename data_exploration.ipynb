{
 "cells": [
  {
   "cell_type": "code",
   "execution_count": 1,
   "id": "b1dc249c-d5e6-43c3-95ab-1a9aa39aa7ca",
   "metadata": {},
   "outputs": [
    {
     "name": "stdout",
     "output_type": "stream",
     "text": [
      "Requirement already satisfied: lxml in /opt/conda/lib/python3.11/site-packages (5.4.0)\n",
      "Requirement already satisfied: tabulate in /opt/conda/lib/python3.11/site-packages (0.9.0)\n"
     ]
    }
   ],
   "source": [
    "!pip install lxml tabulate"
   ]
  },
  {
   "cell_type": "code",
   "execution_count": 2,
   "id": "4d8d391f-9f82-4ca0-a05d-c5eac0bb90a6",
   "metadata": {},
   "outputs": [],
   "source": [
    "import pandas as pd\n",
    "import numpy as np\n",
    "\n",
    "import glob\n",
    "import time\n",
    "\n",
    "import os\n",
    "\n",
    "# base path for data\n",
    "base_path = \"../../data\""
   ]
  },
  {
   "cell_type": "markdown",
   "id": "40c4b57f-3c1d-4893-8c70-a242be9dbed8",
   "metadata": {},
   "source": [
    "**index**"
   ]
  },
  {
   "cell_type": "code",
   "execution_count": 3,
   "id": "8f3074aa-ab6a-476d-8bfa-daafd85189e0",
   "metadata": {},
   "outputs": [
    {
     "name": "stdout",
     "output_type": "stream",
     "text": [
      "13d-1994-2024.jsonl  13g-1994-2024.jsonl\n"
     ]
    }
   ],
   "source": [
    "!ls ../../data/SEC-API.io/13d-13g-filings"
   ]
  },
  {
   "cell_type": "markdown",
   "id": "f00e972e-26ec-4d46-a7ca-4c124efff510",
   "metadata": {},
   "source": [
    "***"
   ]
  },
  {
   "cell_type": "markdown",
   "id": "c36f199d-6974-4535-8084-f75601d9aa35",
   "metadata": {},
   "source": [
    "**daily-trade**"
   ]
  },
  {
   "cell_type": "code",
   "execution_count": 4,
   "id": "64c765bb-428d-45e3-b48e-d0a5ca67dfa9",
   "metadata": {},
   "outputs": [
    {
     "name": "stdout",
     "output_type": "stream",
     "text": [
      "Code block executed in 76.5407 seconds\n",
      "\n",
      "\n",
      "\n",
      "(34589547, 12)\n",
      "\n",
      "\n",
      "\n",
      "       Date Ticker  Open    High   Low  Close  Volume  OpenAdjusted  \\\n",
      "0  20230103   BRAG  3.79  4.0400  3.78  3.840   36774          3.79   \n",
      "1  20230104   BRAG  4.05  4.1791  4.02  4.045    2351          4.05   \n",
      "2  20230105   BRAG  4.27  4.2700  3.98  4.100    3404          4.27   \n",
      "3  20230106   BRAG  4.09  4.2500  4.04  4.130    9429          4.09   \n",
      "4  20230109   BRAG  4.24  4.2400  4.00  4.160    1551          4.24   \n",
      "\n",
      "   HighAdjusted  LowAdjusted  CloseAdjusted  VolumeAdjusted  \n",
      "0        4.0400         3.78          3.840           36774  \n",
      "1        4.1791         4.02          4.045            2351  \n",
      "2        4.2700         3.98          4.100            3404  \n",
      "3        4.2500         4.04          4.130            9429  \n",
      "4        4.2400         4.00          4.160            1551  \n"
     ]
    }
   ],
   "source": [
    "# read all csv files in the folder into a single dataframe\n",
    "start_time = time.time()\n",
    "\n",
    "all_files = glob.glob(base_path + \"/algoseek/daily-trade/*.csv\")\n",
    "li = []\n",
    "for filename in all_files:\n",
    "    df = pd.read_csv(filename, index_col=None, header=0)\n",
    "    li.append(df)\n",
    "\n",
    "combined_df = pd.concat(li, axis=0, ignore_index=True)\n",
    "\n",
    "end_time = time.time()\n",
    "elapsed_time = end_time - start_time\n",
    "print(f\"Code block executed in {elapsed_time:.4f} seconds\")\n",
    "print(\"\\n\\n\")\n",
    "print(combined_df.shape)\n",
    "print(\"\\n\\n\")\n",
    "print(combined_df.head())"
   ]
  },
  {
   "cell_type": "markdown",
   "id": "da3eac47-2af7-4650-98b8-5d277109c150",
   "metadata": {},
   "source": [
    "**min-bar**"
   ]
  },
  {
   "cell_type": "code",
   "execution_count": 5,
   "id": "7e0e9027-63f2-4e3b-be2f-6d89bf53dd49",
   "metadata": {},
   "outputs": [
    {
     "name": "stdout",
     "output_type": "stream",
     "text": [
      "       Date  SecId Ticker TimeBarStart         OpenBarTime  OpenBidPrice  \\\n",
      "0  20070103  78768    AAA        07:30  07:30:00.000000000           NaN   \n",
      "1  20070103  78768    AAA        07:31  07:31:00.000000000         62.90   \n",
      "2  20070103  78768    AAA        07:32  07:32:00.000000000         62.90   \n",
      "3  20070103  78768    AAA        07:33  07:33:00.000000000         62.94   \n",
      "4  20070103  78768    AAA        07:34  07:34:00.000000000         62.94   \n",
      "\n",
      "   OpenBidSize  OpenAskPrice  OpenAskSize FirstTradeTime  ...  \\\n",
      "0          NaN           NaN          NaN            NaN  ...   \n",
      "1       2000.0         66.26       2000.0            NaN  ...   \n",
      "2       2000.0         66.26       2000.0            NaN  ...   \n",
      "3       2000.0         66.23       2000.0            NaN  ...   \n",
      "4       2000.0         66.23       2000.0            NaN  ...   \n",
      "\n",
      "   TimeWeightSpread  TimeWeightBid TimeWeightBidSize  TimeWeightAsk  \\\n",
      "0           5.70069       60.55996            2000.0       66.26907   \n",
      "1               NaN       62.90000               NaN       66.26000   \n",
      "2           3.30957       62.93389            2054.0       66.24346   \n",
      "3               NaN       62.94000               NaN       66.23000   \n",
      "4               NaN       62.94000               NaN       66.23000   \n",
      "\n",
      "   TimeWeightAskSize SpreadValidTime  RelativeSpreadAverage  \\\n",
      "0             2000.0         55167.0                    NaN   \n",
      "1                NaN             NaN                    NaN   \n",
      "2             1983.0         60000.0                    NaN   \n",
      "3                NaN             NaN                    NaN   \n",
      "4                NaN             NaN                    NaN   \n",
      "\n",
      "   TradeCumulDistributionToBid RetailTRFBuySize  RetailTRFSellSize  \n",
      "0          0:0:0:0:0:0:0:0:0:0              NaN                NaN  \n",
      "1                          NaN              NaN                NaN  \n",
      "2          0:0:0:0:0:0:0:0:0:0              NaN                NaN  \n",
      "3                          NaN              NaN                NaN  \n",
      "4                          NaN              NaN                NaN  \n",
      "\n",
      "[5 rows x 90 columns]\n"
     ]
    }
   ],
   "source": [
    "ext_min_bar_df = pd.read_csv(\"../../data/algoseek/extended-min-bar/2007/20070103/A/AAA.csv\")\n",
    "print(ext_min_bar_df.head())"
   ]
  },
  {
   "cell_type": "code",
   "execution_count": 6,
   "id": "66a6466e-5a8f-47e3-8011-92f56b42a54c",
   "metadata": {},
   "outputs": [
    {
     "name": "stdout",
     "output_type": "stream",
     "text": [
      "   SecId      Date Ticker TimeBarStart  FirstTradePrice  HighTradePrice  \\\n",
      "0  78768  20070103    AAA        09:35            62.65           62.65   \n",
      "1  78768  20070103    AAA        09:44            62.85           62.85   \n",
      "2  78768  20070103    AAA        09:45            62.65           62.65   \n",
      "3  78768  20070103    AAA        10:25            62.50           62.50   \n",
      "4  78768  20070103    AAA        10:38            62.50           62.50   \n",
      "\n",
      "   LowTradePrice  LastTradePrice  VolumeWeightPrice  Volume  TotalTrades  \\\n",
      "0          62.65           62.65              62.65     200            1   \n",
      "1          62.85           62.85              62.85     100            1   \n",
      "2          62.65           62.65              62.65     400            3   \n",
      "3          62.50           62.50              62.50     100            1   \n",
      "4          62.50           62.50              62.50     100            1   \n",
      "\n",
      "   FirstTradePriceAdjusted  HighTradePriceAdjusted  LowTradePriceAdjusted  \\\n",
      "0                  21.4088                 21.4088                21.4088   \n",
      "1                  21.4772                 21.4772                21.4772   \n",
      "2                  21.4088                 21.4088                21.4088   \n",
      "3                  21.3576                 21.3576                21.3576   \n",
      "4                  21.3576                 21.3576                21.3576   \n",
      "\n",
      "   LastTradePriceAdjusted  VolumeWeightPriceAdjusted  VolumeAdjusted  \n",
      "0                 21.4088                   21.40885             200  \n",
      "1                 21.4772                   21.47719             100  \n",
      "2                 21.4088                   21.40885             400  \n",
      "3                 21.3576                   21.35759             100  \n",
      "4                 21.3576                   21.35759             100  \n"
     ]
    }
   ],
   "source": [
    "trade_only_min_bar_df = pd.read_csv(\"../../data/algoseek/trade-only-adj-min-bar/2007/20070103/A/AAA.csv\")\n",
    "print(trade_only_min_bar_df.head())"
   ]
  },
  {
   "cell_type": "code",
   "execution_count": 7,
   "id": "9fb74b4c-a5b2-45aa-9afb-6edabff2935c",
   "metadata": {},
   "outputs": [
    {
     "name": "stdout",
     "output_type": "stream",
     "text": [
      "['Date', 'SecId', 'Ticker', 'TimeBarStart', 'FirstTradePrice', 'HighTradePrice', 'LowTradePrice', 'LastTradePrice', 'VolumeWeightPrice', 'Volume', 'TotalTrades']\n",
      "['OpenBarTime', 'OpenBidPrice', 'OpenBidSize', 'OpenAskPrice', 'OpenAskSize', 'FirstTradeTime', 'FirstTradeSize', 'HighBidTime', 'HighBidPrice', 'HighBidSize', 'HighAskTime', 'HighAskPrice', 'HighAskSize', 'HighTradeTime', 'HighTradeSize', 'LowBidTime', 'LowBidPrice', 'LowBidSize', 'LowAskTime', 'LowAskPrice', 'LowAskSize', 'LowTradeTime', 'LowTradeSize', 'CloseBarTime', 'CloseBidPrice', 'CloseBidSize', 'CloseAskPrice', 'CloseAskSize', 'LastTradeTime', 'LastTradeSize', 'MinSpread', 'MaxSpread', 'CancelSize', 'FinraVolumeWeightPrice', 'TotalVolumeWeightPrice', 'VolumeWeightPriceExcludePRP', 'VolumeWeightSpread', 'VolumeWeightSpreadExcludePRP', 'TradeAtBid', 'TradeAtBidCount', 'TradeAtBidMid', 'TradeAtBidMidCount', 'TradeAtMid', 'TradeAtMidCount', 'TradeAtMidAsk', 'TradeAtMidAskCount', 'TradeAtAsk', 'TradeAtAskCount', 'TradeAtCrossOrLocked', 'TradeAtCrossOrLockedCount', 'FinraVolume', 'TotalVolume', 'NBBOQuoteCount', 'TotalQuoteCount', 'ExchangesBidCount', 'ExchangesAskCount', 'ExchangeTradeCount', 'FinraTradeCount', 'OddLotTradeCount', 'OddLotTotalShares', 'PriorReferencePriceTradeCount', 'PriorReferencePriceTradeShares', 'UptickVolume', 'DowntickVolume', 'RepeatUptickVolume', 'RepeatDowntickVolume', 'UnknownTickVolume', 'TradeToMidVolWeight', 'TradeToMidVolWeightRelative', 'TimeWeightSpread', 'TimeWeightBid', 'TimeWeightBidSize', 'TimeWeightAsk', 'TimeWeightAskSize', 'SpreadValidTime', 'RelativeSpreadAverage', 'TradeCumulDistributionToBid', 'RetailTRFBuySize', 'RetailTRFSellSize']\n"
     ]
    }
   ],
   "source": [
    "print([col for col in ext_min_bar_df.columns if col in trade_only_min_bar_df])\n",
    "print([col for col in ext_min_bar_df.columns if col not in trade_only_min_bar_df])"
   ]
  },
  {
   "cell_type": "markdown",
   "id": "5a463db7-baa9-4926-9a49-80065a90782d",
   "metadata": {},
   "source": [
    "**mapping-files**"
   ]
  },
  {
   "cell_type": "code",
   "execution_count": 8,
   "id": "5507e0b3-7cc6-4c7e-a8b6-415f5ed294d3",
   "metadata": {},
   "outputs": [
    {
     "name": "stdout",
     "output_type": "stream",
     "text": [
      "   SecId Tickers TickersStartToEndDate  \\\n",
      "0   2234     SLF     20070103:29991231   \n",
      "1   9470   ASTSF     20070103:20080530   \n",
      "2  10729    PGLA     20070103:20100701   \n",
      "3  11019    CTTY     20070103:20070824   \n",
      "4  11895     SFM     20070103:20080522   \n",
      "\n",
      "                                                Name  \\\n",
      "0                           Sun Life Financial, Inc.   \n",
      "1                                           ASE Test   \n",
      "2  Progen Industries Ltd.;Progen Pharmaceuticals ...   \n",
      "3                                        Catuity Inc   \n",
      "4                                     Synnove Finden   \n",
      "\n",
      "                                  NameStartToEndDate          ISIN  \\\n",
      "0                                  20070103:29991231  CA8667961053   \n",
      "1                                  20070103:20080530  SG9999000145   \n",
      "2  20070103:20070328;20070329:20090306;20090309:2...  AU000000PGL5   \n",
      "3                                  20070103:20070824  US1494812027   \n",
      "4                                  20070103:20080522  NO0003073108   \n",
      "\n",
      "  ISINStartToEndDate ListStatus SecurityDescription USIdentifier  \\\n",
      "0  20070103:29991231          L       Equity Shares    866796105   \n",
      "1  20070103:20080530          D       Equity Shares    999900014   \n",
      "2  20070103:20100701          D       Equity Shares    000000PGL   \n",
      "3  20070103:20070824          D       Equity Shares    149481202   \n",
      "4  20070103:20080522          D       Equity Shares    000307310   \n",
      "\n",
      "  USIdentifierStartToEndDate PrimaryExchange PrimaryExchangeStartToEndDate  \\\n",
      "0          20070103:29991231            NYSE             20070103:29991231   \n",
      "1          20070103:20080530          NASDAQ             20070103:20080530   \n",
      "2          20070103:20100701          NASDAQ             20070103:20100701   \n",
      "3          20070103:20070824          NASDAQ             20070103:20070824   \n",
      "4          20070103:20080522            AMEX             20070103:20080522   \n",
      "\n",
      "     SEDOL     Sic                             Sector  \\\n",
      "0  2568283  6311.0  Finance Insurance And Real Estate   \n",
      "1      NaN  3674.0                      Manufacturing   \n",
      "2      NaN     NaN                                NaN   \n",
      "3      NaN  7371.0                           Services   \n",
      "4      NaN     NaN                                NaN   \n",
      "\n",
      "                                 Industry          FIGI  \n",
      "0                          Life Insurance  BBG000LRMSB8  \n",
      "1        Semiconductors & Related Devices  BBG000GV83F2  \n",
      "2                                     NaN  BBG000FT0VG3  \n",
      "3  Services-Computer Programming Services  BBG000D73SZ6  \n",
      "4                                     NaN  BBG000BF5PQ4  \n"
     ]
    }
   ],
   "source": [
    "df = pd.read_csv(\"../../data/algoseek/mapping-files/equity_security_master.csv\")\n",
    "print(df.head())"
   ]
  },
  {
   "cell_type": "code",
   "execution_count": 9,
   "id": "2bb645ac-2062-4422-ad60-e257244cf2fa",
   "metadata": {},
   "outputs": [
    {
     "name": "stdout",
     "output_type": "stream",
     "text": [
      "  Ticker    SecId  StartDate   EndDate\n",
      "0      A    32952   20070103  29991231\n",
      "1     AA    33008   20070103  20161031\n",
      "2     AA  4920498   20161101  29991231\n",
      "3    AAA    78768   20070103  20070521\n",
      "4    AAA  6561562   20200909  20221014\n"
     ]
    }
   ],
   "source": [
    "df = pd.read_csv(\"../../data/algoseek/mapping-files/ticker_to_secid_lookup.csv\")\n",
    "print(df.head())"
   ]
  },
  {
   "cell_type": "markdown",
   "id": "4896cd1d-320e-4b66-8700-e25d4074b633",
   "metadata": {},
   "source": [
    "**fundamentals**"
   ]
  },
  {
   "cell_type": "code",
   "execution_count": 10,
   "id": "07440cc0-c418-46c7-941b-9adacbf46401",
   "metadata": {},
   "outputs": [
    {
     "name": "stdout",
     "output_type": "stream",
     "text": [
      "2005-all.csv  2009-all.csv  2013-all.csv  2017-all.csv\t2021-all.csv\n",
      "2006-all.csv  2010-all.csv  2014-all.csv  2018-all.csv\t2022-all.csv\n",
      "2007-all.csv  2011-all.csv  2015-all.csv  2019-all.csv\t2023-all.csv\n",
      "2008-all.csv  2012-all.csv  2016-all.csv  2020-all.csv\n"
     ]
    }
   ],
   "source": [
    "!ls ../../data/Capital-IQ/fundamentals-quarterly/"
   ]
  },
  {
   "cell_type": "code",
   "execution_count": 11,
   "id": "7245628f-db63-47e9-b21c-6f752b0387ab",
   "metadata": {},
   "outputs": [
    {
     "name": "stderr",
     "output_type": "stream",
     "text": [
      "/tmp/ipykernel_1334188/2993083755.py:1: DtypeWarning: Columns (13,26,30,34,647,648,649,654,669) have mixed types. Specify dtype option on import or set low_memory=False.\n",
      "  df = pd.read_csv(\"../../data/Capital-IQ/fundamentals-quarterly/2005-all.csv\")\n"
     ]
    },
    {
     "name": "stdout",
     "output_type": "stream",
     "text": [
      "   gvkey    datadate  fyearq  fqtr  fyr indfmt consol popsrc datafmt     tic  \\\n",
      "0   1004  2005-02-28    2004     3    5   INDL      C      D     STD     AIR   \n",
      "1   1004  2005-05-31    2004     4    5   INDL      C      D     STD     AIR   \n",
      "2   1004  2005-08-31    2005     1    5   INDL      C      D     STD     AIR   \n",
      "3   1004  2005-11-30    2005     2    5   INDL      C      D     STD     AIR   \n",
      "4   1013  2005-01-31    2005     1   10   INDL      C      D     STD  ADCT.1   \n",
      "\n",
      "   ... priusa   sic  spcindcd spcseccd  spcsrc  state  stko           weburl  \\\n",
      "0  ...    1.0  5080     110.0    925.0       B     IL   0.0  www.aarcorp.com   \n",
      "1  ...    1.0  5080     110.0    925.0       B     IL   0.0  www.aarcorp.com   \n",
      "2  ...    1.0  5080     110.0    925.0       B     IL   0.0  www.aarcorp.com   \n",
      "3  ...    1.0  5080     110.0    925.0       B     IL   0.0  www.aarcorp.com   \n",
      "4  ...    1.0  3661     180.0    940.0       B     MN   0.0              NaN   \n",
      "\n",
      "        dldte     ipodate  \n",
      "0         NaN  1972-04-24  \n",
      "1         NaN  1972-04-24  \n",
      "2         NaN  1972-04-24  \n",
      "3         NaN  1972-04-24  \n",
      "4  2010-12-10  1979-03-16  \n",
      "\n",
      "[5 rows x 680 columns]\n"
     ]
    }
   ],
   "source": [
    "df = pd.read_csv(\"../../data/Capital-IQ/fundamentals-quarterly/2005-all.csv\")\n",
    "print(df.head())"
   ]
  },
  {
   "cell_type": "code",
   "execution_count": 12,
   "id": "0c454dc7-3284-41e4-9db8-da889974a909",
   "metadata": {},
   "outputs": [
    {
     "name": "stdout",
     "output_type": "stream",
     "text": [
      "['gvkey', 'datadate', 'fyearq', 'fqtr', 'fyr', 'indfmt', 'consol', 'popsrc', 'datafmt', 'tic', 'cusip', 'conm', 'acctchgq', 'acctstdq', 'adrrq', 'ajexq', 'ajpq', 'bsprq', 'compstq', 'curcdq', 'curncdq', 'currtrq', 'curuscnq', 'datacqtr', 'datafqtr', 'finalq', 'ogmq', 'rp', 'scfq', 'srcq', 'staltq', 'updq', 'apdedateq', 'fdateq', 'pdateq', 'rdq', 'acchgq', 'acomincq', 'acoq', 'actq', 'altoq', 'ancq', 'anoq', 'aociderglq', 'aociotherq', 'aocipenq', 'aocisecglq', 'aol2q', 'aoq', 'apq', 'aqaq', 'aqdq', 'aqepsq', 'aqpl1q', 'aqpq', 'arcedq', 'arceepsq', 'arceq', 'atq', 'aul3q', 'billexceq', 'capr1q', 'capr2q', 'capr3q', 'capsftq', 'capsq', 'ceiexbillq', 'ceqq', 'cheq', 'chq', 'cibegniq', 'cicurrq', 'ciderglq', 'cimiiq', 'ciotherq', 'cipenq', 'ciq', 'cisecglq', 'citotalq', 'cogsq', 'csh12q', 'cshfd12', 'cshfdq', 'cshiq', 'cshopq', 'cshoq', 'cshprq', 'cstkcvq', 'cstkeq', 'cstkq', 'dcomq', 'dd1q', 'deracq', 'deraltq', 'derhedglq', 'derlcq', 'derlltq', 'diladq', 'dilavq', 'dlcq', 'dlttq', 'doq', 'dpacreq', 'dpactq', 'dpq', 'dpretq', 'drcq', 'drltq', 'dteaq', 'dtedq', 'dteepsq', 'dtepq', 'dvintfq', 'dvpq', 'epsf12', 'epsfi12', 'epsfiq', 'epsfxq', 'epspi12', 'epspiq', 'epspxq', 'epsx12', 'esopctq', 'esopnrq', 'esoprq', 'esoptq', 'esubq', 'fcaq', 'ffoq', 'finacoq', 'finaoq', 'finchq', 'findlcq', 'findltq', 'finivstq', 'finlcoq', 'finltoq', 'finnpq', 'finreccq', 'finrecltq', 'finrevq', 'finxintq', 'finxoprq', 'gdwlamq', 'gdwlia12', 'gdwliaq', 'gdwlid12', 'gdwlidq', 'gdwlieps12', 'gdwliepsq', 'gdwlipq', 'gdwlq', 'glaq', 'glcea12', 'glceaq', 'glced12', 'glcedq', 'glceeps12', 'glceepsq', 'glcepq', 'gldq', 'glepsq', 'glivq', 'glpq', 'hedgeglq', 'ibadj12', 'ibadjq', 'ibcomq', 'ibmiiq', 'ibq', 'icaptq', 'intaccq', 'intanoq', 'intanq', 'invfgq', 'invoq', 'invrmq', 'invtq', 'invwipq', 'ivaeqq', 'ivaoq', 'ivltq', 'ivstq', 'lcoq', 'lctq', 'lltq', 'lnoq', 'lol2q', 'loq', 'loxdrq', 'lqpl1q', 'lseq', 'ltmibq', 'ltq', 'lul3q', 'mibnq', 'mibq', 'mibtq', 'miiq', 'msaq', 'ncoq', 'niitq', 'nimq', 'niq', 'nopiq', 'npatq', 'npq', 'nrtxtdq', 'nrtxtepsq', 'nrtxtq', 'obkq', 'oepf12', 'oeps12', 'oepsxq', 'oiadpq', 'oibdpq', 'opepsq', 'optdrq', 'optfvgrq', 'optlifeq', 'optrfrq', 'optvolq', 'piq', 'pllq', 'pnc12', 'pncd12', 'pncdq', 'pnceps12', 'pncepsq', 'pnciapq', 'pnciaq', 'pncidpq', 'pncidq', 'pnciepspq', 'pnciepsq', 'pncippq', 'pncipq', 'pncpd12', 'pncpdq', 'pncpeps12', 'pncpepsq', 'pncpq', 'pncq', 'pncwiapq', 'pncwiaq', 'pncwidpq', 'pncwidq', 'pncwiepq', 'pncwiepsq', 'pncwippq', 'pncwipq', 'pnrshoq', 'ppegtq', 'ppentq', 'prcaq', 'prcd12', 'prcdq', 'prce12', 'prceps12', 'prcepsq', 'prcpd12', 'prcpdq', 'prcpeps12', 'prcpepsq', 'prcpq', 'prcraq', 'prshoq', 'pstknq', 'pstkq', 'pstkrq', 'rcaq', 'rcdq', 'rcepsq', 'rcpq', 'rdipaq', 'rdipdq', 'rdipepsq', 'rdipq', 'recdq', 'rectaq', 'rectoq', 'rectq', 'rectrq', 'recubq', 'req', 'retq', 'reunaq', 'revtq', 'rllq', 'rra12', 'rraq', 'rrd12', 'rrdq', 'rreps12', 'rrepsq', 'rrpq', 'rstcheltq', 'rstcheq', 'saleq', 'seqoq', 'seqq', 'seta12', 'setaq', 'setd12', 'setdq', 'seteps12', 'setepsq', 'setpq', 'spce12', 'spced12', 'spcedpq', 'spcedq', 'spceeps12', 'spceepsp12', 'spceepspq', 'spceepsq', 'spcep12', 'spcepd12', 'spcepq', 'spceq', 'spidq', 'spiepsq', 'spioaq', 'spiopq', 'spiq', 'sretq', 'stkcoq', 'stkcpaq', 'teqq', 'tfvaq', 'tfvceq', 'tfvlq', 'tieq', 'tiiq', 'tstknq', 'tstkq', 'txdbaq', 'txdbcaq', 'txdbclq', 'txdbq', 'txdiq', 'txditcq', 'txpq', 'txtq', 'txwq', 'uacoq', 'uaoq', 'uaptq', 'ucapsq', 'ucconsq', 'uceqq', 'uddq', 'udmbq', 'udoltq', 'udpcoq', 'udvpq', 'ugiq', 'uinvq', 'ulcoq', 'uniamiq', 'unopincq', 'uopiq', 'updvpq', 'upmcstkq', 'upmpfq', 'upmpfsq', 'upmsubpq', 'upstkcq', 'upstkq', 'urectq', 'uspiq', 'usubdvpq', 'usubpcvq', 'utemq', 'wcapq', 'wdaq', 'wddq', 'wdepsq', 'wdpq', 'xaccq', 'xidoq', 'xintq', 'xiq', 'xoprq', 'xopt12', 'xoptd12', 'xoptd12p', 'xoptdq', 'xoptdqp', 'xopteps12', 'xoptepsp12', 'xoptepsq', 'xoptepsqp', 'xoptq', 'xoptqp', 'xrdq', 'xsgaq', 'acchgy', 'afudccy', 'afudciy', 'amcy', 'aolochy', 'apalchy', 'aqay', 'aqcy', 'aqdy', 'aqepsy', 'aqpy', 'arcedy', 'arceepsy', 'arcey', 'capxy', 'cdvcy', 'chechy', 'cibegniy', 'cicurry', 'cidergly', 'cimiiy', 'ciothery', 'cipeny', 'cisecgly', 'citotaly', 'ciy', 'cogsy', 'cshfdy', 'cshpry', 'cstkey', 'depcy', 'derhedgly', 'dilady', 'dilavy', 'dlcchy', 'dltisy', 'dltry', 'doy', 'dpcy', 'dprety', 'dpy', 'dteay', 'dtedy', 'dteepsy', 'dtepy', 'dvpy', 'dvy', 'epsfiy', 'epsfxy', 'epspiy', 'epspxy', 'esubcy', 'esuby', 'exrey', 'fcay', 'ffoy', 'fiaoy', 'fincfy', 'finrevy', 'finxinty', 'finxopry', 'fopoxy', 'fopoy', 'fopty', 'fsrcoy', 'fsrcty', 'fuseoy', 'fusety', 'gdwlamy', 'gdwliay', 'gdwlidy', 'gdwliepsy', 'gdwlipy', 'glay', 'glceay', 'glcedy', 'glceepsy', 'glcepy', 'gldy', 'glepsy', 'glivy', 'glpy', 'hedgegly', 'ibadjy', 'ibcomy', 'ibcy', 'ibmiiy', 'iby', 'intpny', 'invchy', 'itccy', 'ivacoy', 'ivchy', 'ivncfy', 'ivstchy', 'miiy', 'ncoy', 'niity', 'nimy', 'niy', 'nopiy', 'nrtxtdy', 'nrtxtepsy', 'nrtxty', 'oancfy', 'oepsxy', 'oiadpy', 'oibdpy', 'opepsy', 'optdry', 'optfvgry', 'optlifey', 'optrfry', 'optvoly', 'pdvcy', 'piy', 'plly', 'pncdy', 'pncepsy', 'pnciapy', 'pnciay', 'pncidpy', 'pncidy', 'pnciepspy', 'pnciepsy', 'pncippy', 'pncipy', 'pncpdy', 'pncpepsy', 'pncpy', 'pncwiapy', 'pncwiay', 'pncwidpy', 'pncwidy', 'pncwiepsy', 'pncwiepy', 'pncwippy', 'pncwipy', 'pncy', 'prcay', 'prcdy', 'prcepsy', 'prcpdy', 'prcpepsy', 'prcpy', 'prstkccy', 'prstkcy', 'prstkpcy', 'rcay', 'rcdy', 'rcepsy', 'rcpy', 'rdipay', 'rdipdy', 'rdipepsy', 'rdipy', 'recchy', 'revty', 'rray', 'rrdy', 'rrepsy', 'rrpy', 'saley', 'scstkcy', 'setay', 'setdy', 'setepsy', 'setpy', 'sivy', 'spcedpy', 'spcedy', 'spceepspy', 'spceepsy', 'spcepy', 'spcey', 'spidy', 'spiepsy', 'spioay', 'spiopy', 'spiy', 'sppey', 'sppivy', 'spstkcy', 'srety', 'sstky', 'stkcoy', 'stkcpay', 'tdcy', 'tfvcey', 'tiey', 'tiiy', 'tsafcy', 'txachy', 'txbcofy', 'txbcoy', 'txdcy', 'txdiy', 'txpdy', 'txty', 'txwy', 'uaolochy', 'udfccy', 'udvpy', 'ufretsdy', 'ugiy', 'uniamiy', 'unopincy', 'unwccy', 'uoisy', 'updvpy', 'uptacy', 'uspiy', 'ustdncy', 'usubdvpy', 'utfdocy', 'utfoscy', 'utmey', 'uwkcapcy', 'wcapchy', 'wcapcy', 'wday', 'wddy', 'wdepsy', 'wdpy', 'xidocy', 'xidoy', 'xinty', 'xiy', 'xopry', 'xoptdqpy', 'xoptdy', 'xoptepsqpy', 'xoptepsy', 'xoptqpy', 'xopty', 'xrdy', 'xsgay', 'exchg', 'cik', 'costat', 'fic', 'cshtrq', 'dvpspq', 'dvpsxq', 'mkvaltq', 'prccq', 'prchq', 'prclq', 'adjex', 'add1', 'add2', 'add3', 'add4', 'addzip', 'busdesc', 'city', 'conml', 'county', 'dlrsn', 'ein', 'fax', 'fyrc', 'ggroup', 'gind', 'gsector', 'gsubind', 'idbflag', 'incorp', 'loc', 'naics', 'phone', 'prican', 'prirow', 'priusa', 'sic', 'spcindcd', 'spcseccd', 'spcsrc', 'state', 'stko', 'weburl', 'dldte', 'ipodate']\n"
     ]
    }
   ],
   "source": [
    "print([col for col in df.columns])"
   ]
  },
  {
   "cell_type": "markdown",
   "id": "4cc0b8ff-b177-44f9-9ce4-97c400d9a9b9",
   "metadata": {},
   "source": [
    "**press-releases**"
   ]
  },
  {
   "cell_type": "code",
   "execution_count": 13,
   "id": "d9d6eaae-a937-4dc6-ba6b-5fe0ffb68da0",
   "metadata": {},
   "outputs": [
    {
     "name": "stdout",
     "output_type": "stream",
     "text": [
      "Loaded 112461 JSON objects.\n"
     ]
    }
   ],
   "source": [
    "import gzip\n",
    "import json\n",
    "\n",
    "PATH = \"../../data/Press-Releases/Business_Wire_2004-01-01_bis_2004-12-31.jsonl.gz\"\n",
    "\n",
    "def load_json_objects(file_path):\n",
    "    json_objects = []\n",
    "    with gzip.open(file_path, 'rt', encoding='utf-8') as f:\n",
    "        for line in f:\n",
    "            obj = json.loads(line)  # Convert JSON string to Python dict\n",
    "            json_objects.append(obj)\n",
    "    return json_objects\n",
    "\n",
    "# Usage\n",
    "data = load_json_objects(PATH)\n",
    "print(f\"Loaded {len(data)} JSON objects.\")\n"
   ]
  },
  {
   "cell_type": "code",
   "execution_count": 14,
   "id": "b6117d81-244a-4e52-a493-4ff9f4ce6a7d",
   "metadata": {},
   "outputs": [
    {
     "name": "stdout",
     "output_type": "stream",
     "text": [
      "+----------------------------------------------+----------------------+---------------------------------------------------------------------------------------------------------------------------+--------------------------------------------------------------------+----------------------------------------------------------------------------------------------------------------------------------------------------------------------------------------------------------+\n",
      "| ResultId                                     | Date                 | Title                                                                                                                     | DocId                                                              | ContentStart                                                                                                                                                                                             |\n",
      "+==============================================+======================+===========================================================================================================================+====================================================================+==========================================================================================================================================================================================================+\n",
      "| urn:contentItem:4BCF-DN80-01KN-14WT-00000-00 | 2004-01-02T00:00:00Z | Schaeffer's Midday Options Update Features J.P. Morgan Chase , AT&T, Citigroup , AmerisourceBergen , Ciphergen Biosystems | /shared/document/news/urn:contentItem:4BCF-DN80-01KN-14WT-00000-00 | <entry xmlns=\"http://www.w3.org/2005/Atom\"><id>urn:contentItem:4BCF-DN80-01KN-14WT-00000-00</id><title/><published>2004-01-02T00:00:00Z</published><updated>2024-06-24T05:26:09Z</updated><author><name> |\n",
      "+----------------------------------------------+----------------------+---------------------------------------------------------------------------------------------------------------------------+--------------------------------------------------------------------+----------------------------------------------------------------------------------------------------------------------------------------------------------------------------------------------------------+\n"
     ]
    }
   ],
   "source": [
    "import json\n",
    "import pandas as pd\n",
    "from tabulate import tabulate\n",
    "\n",
    "json_obj = data[53]\n",
    "\n",
    "# Extract the relevant fields into a flat dictionary\n",
    "def extract_summary(obj):\n",
    "    return {\n",
    "        'ResultId': obj.get('ResultId'),\n",
    "        'Date': obj.get('Date', ''),\n",
    "        'Title': obj.get('Title', ''),\n",
    "        'DocId': obj.get('Document', {}).get('DocumentId', ''),\n",
    "        'ContentStart': obj.get('Document', {}).get('Content', '')[:200]  # Show first 200 chars of content\n",
    "    }\n",
    "\n",
    "# If you have multiple such entries, apply this:\n",
    "json_list = [json_obj]  # Replace with your list of JSON entries\n",
    "summary_list = [extract_summary(entry) for entry in json_list]\n",
    "\n",
    "# Create a DataFrame for nice formatting\n",
    "df = pd.DataFrame(summary_list)\n",
    "\n",
    "# Print as table\n",
    "print(tabulate(df, headers='keys', tablefmt='grid', showindex=False))"
   ]
  },
  {
   "cell_type": "code",
   "execution_count": null,
   "id": "cce85ef1-8f6f-460d-8b78-91b3df824321",
   "metadata": {},
   "outputs": [],
   "source": []
  }
 ],
 "metadata": {
  "kernelspec": {
   "display_name": "Python 3 (ipykernel)",
   "language": "python",
   "name": "python3"
  },
  "language_info": {
   "codemirror_mode": {
    "name": "ipython",
    "version": 3
   },
   "file_extension": ".py",
   "mimetype": "text/x-python",
   "name": "python",
   "nbconvert_exporter": "python",
   "pygments_lexer": "ipython3",
   "version": "3.11.4"
  }
 },
 "nbformat": 4,
 "nbformat_minor": 5
}
