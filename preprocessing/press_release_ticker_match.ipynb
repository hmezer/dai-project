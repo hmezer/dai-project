{
  "nbformat": 4,
  "nbformat_minor": 0,
  "metadata": {
    "colab": {
      "provenance": [],
      "authorship_tag": "ABX9TyNhLHRmRqk/TDe8mEWkVno2",
      "include_colab_link": true
    },
    "kernelspec": {
      "name": "python3",
      "display_name": "Python 3"
    },
    "language_info": {
      "name": "python"
    }
  },
  "cells": [
    {
      "cell_type": "markdown",
      "metadata": {
        "id": "view-in-github",
        "colab_type": "text"
      },
      "source": [
        "<a href=\"https://colab.research.google.com/github/hmezer/dai-project/blob/main/press_release_ticker_match.ipynb\" target=\"_parent\"><img src=\"https://colab.research.google.com/assets/colab-badge.svg\" alt=\"Open In Colab\"/></a>"
      ]
    },
    {
      "cell_type": "code",
      "source": [
        "!git clone https://github.com/hmezer/dai-project"
      ],
      "metadata": {
        "colab": {
          "base_uri": "https://localhost:8080/"
        },
        "id": "zFhgX_KUTpSb",
        "outputId": "fbd0a14a-0a94-4bee-b687-550a432ffaea"
      },
      "execution_count": 1,
      "outputs": [
        {
          "output_type": "stream",
          "name": "stdout",
          "text": [
            "Cloning into 'dai-project'...\n",
            "remote: Enumerating objects: 49, done.\u001b[K\n",
            "remote: Counting objects: 100% (49/49), done.\u001b[K\n",
            "remote: Compressing objects: 100% (46/46), done.\u001b[K\n",
            "remote: Total 49 (delta 16), reused 0 (delta 0), pack-reused 0 (from 0)\u001b[K\n",
            "Receiving objects: 100% (49/49), 19.63 MiB | 17.05 MiB/s, done.\n",
            "Resolving deltas: 100% (16/16), done.\n"
          ]
        }
      ]
    },
    {
      "cell_type": "code",
      "execution_count": 2,
      "metadata": {
        "colab": {
          "base_uri": "https://localhost:8080/"
        },
        "id": "MiozabAVNr-w",
        "outputId": "eda75cdc-3858-455d-adcc-310ae56b300e"
      },
      "outputs": [
        {
          "output_type": "stream",
          "name": "stdout",
          "text": [
            "Loaded 5059 JSON objects from .jsonl.gz files.\n",
            "{\n",
            "    \"ResultId\": \"urn:contentItem:6B2J-M2C1-DXY3-003N-00000-00\",\n",
            "    \"Date\": \"2024-01-09T00:00:00Z\",\n",
            "    \"Title\": \"OneStream Software Closes 2023 with Strong Momentum, Positioned for Further Expansion to Support Finance Leaders in 2024 CPM platform provider reports over $450M Annual Recurring Revenue (ARR), up 37% year-over-year\",\n",
            "    \"Document\": {\n",
            "        \"DocumentId\": \"/shared/document/news/urn:contentItem:6B2J-M2C1-DXY3-003N-00000-00\",\n",
            "        \"DocumentIdType\": \"DocFullPath\",\n",
            "        \"Content\": \"<entry xmlns=\\\"http://www.w3.org/2005/Atom\\\"><id>urn:contentItem:6B2J-M2C1-DXY3-003N-00000-00</id><title>OneStream Software Closes 2023 with Strong Momentum, Positioned for Further Expansion to Support Finance Leaders in 2024</title><published>2024-01-09T00:00:00Z</published><updated>2025-06-11T07:16:02Z</updated><author><name>LexisNexis</name></author><content type=\\\"application/xml\\\"><!--Transformation version 1.25--><articleDoc xmlns=\\\"\\\" xmlns:xsi=\\\"http://www.w3.org/2001/XMLSchema-instance\\\" xsi:noNamespaceSchemaLocation=\\\"http://www.lexisnexis.com/xmlschemas/content/public/articledoc/1/\\\" schemaVersion=\\\"1.8\\\" xml:lang=\\\"en\\\"><articleDocHead><itemInfo/></articleDocHead><nitf:body xmlns:nitf=\\\"http://iptc.org/std/NITF/2006-10-18/\\\"><nitf:body.head><nitf:hedline><nitf:hl1>OneStream Software Closes 2023 with Strong Momentum, Positioned for Further Expansion to Support Finance Leaders in 2024</nitf:hl1><nitf:hl2>CPM platform provider reports over $450M Annual Recurring Revenue (ARR), up 37% year-over-year</nitf:hl2></nitf:hedline><nitf:dateline><location>BIRMINGHAM, Mich.</location></nitf:dateline></nitf:body.head><nitf:body.content><bodyText><p nitf:lede=\\\"true\\\"><url normalizedValue=\\\"https://cts.businesswire.com/ct/CT?id=smartlink&amp;url=https%3A%2F%2Fwww.onestream.com%2F&amp;esheet=53878862&amp;newsitemid=20240108951995&amp;lan=en-US&amp;anchor=OneStream+Software&amp;index=1&amp;md5=94e435570e787d39c6a1b6a2fc4e381b\\\">OneStream Software</url> , a leader in corporate performance management (CPM) solutions for advancing financial close, consolidation, reporting, planning and forecasting, announced that as of fiscal year ending December 31, 2023, its Annual Recurring Revenue (ARR) is above $450M, a 37% increase year-over-year, and the company was cash flow positive for the year.</p><p nitf:lede=\\\"true\\\">During the fourth quarter, OneStream grew its customer base to nearly 1,400 customers globally, up 21% year-over-year. Notable new customers signed in this period include Elanco, Defense Information Systems Agency, Metrolinx, Perdue Farms, Vulcan Materials, and Woolworths.</p><p>\\\"OneStream's achievements over the past year underscore the increasingly strategic role Finance is playing in guiding business transformation and growth and the value our customers gain by leveraging our intelligent finance platform,\\\" said Tom Shea, CEO at OneStream. \\\"In today's rapidly evolving business environment, our platform drives business agility to help finance organizations navigate new challenges and steer the business. By aligning financial and operational data across the enterprise, and infusing AI capabilities into planning and reporting processes, businesses can gain increased transparency and insights to help guide business direction and enable confident decision-making.\\\"</p><p>OneStream expanded its partner network by 10 partners in EMEA and grew partnerships in the US, totaling over 250 partners globally.</p><p>\\\"Finance leaders are under increased pressure to manage uncertainty and provide strategic guidance to the business,\\\" said Craig Colby, President at OneStream. \\\"Our double-digit growth in 2023 is an indicator of how organizations are prioritizing the consolidation of core finance processes, such as financial planning, reporting and forecasting, into one AI-powered platform. In the new year, we remain laser focused on empowering customers to make more informed decisions by unifying financial and operational data from multiple ERP and other systems into a single platform, all while eliminating the technical debt that comes with using multiple legacy financial applications.\\\"</p><p>Additionally, OneStream received several industry recognitions as a leading provider of CPM solutions during the fourth quarter, including:</p><list><listItem><label>\\u2022</label><bodyText><p>Named a Leader in the <url normalizedValue=\\\"https://cts.businesswire.com/ct/CT?id=smartlink&amp;url=https%3A%2F%2Fwww.onestream.com%2Fnews%2Fonestream-software-recognized-as-a-leader-in-2023-gartner-magic-quadrant-for-financial-planning-software%2F&amp;esheet=53878862&amp;newsitemid=20240108951995&amp;lan=en-US&amp;anchor=2023+Gartner%26%23174%3B+Magic+Quadrant%26%238482%3B+for+Financial+Planning+Software&amp;index=2&amp;md5=792cea5c0a6f3fb164e9a4dd63471073\\\">2023 Gartner\\u00ae Magic Quadrant(TM) for Financial Planning Software</url> .</p></bodyText></listItem><listItem><label>\\u2022</label><bodyText><p>Named a Leader in the <url normalizedValue=\\\"https://cts.businesswire.com/ct/CT?id=smartlink&amp;url=https%3A%2F%2Fwww.onestream.com%2Fnews%2Fonestream-software-recognized-as-a-leader-in-2023-gartner-magic-quadrant-for-financial-close-and-consolidation-solutions%2F&amp;esheet=53878862&amp;newsitemid=20240108951995&amp;lan=en-US&amp;anchor=2023+Gartner%26%23174%3B+Magic+Quadrant%26%238482%3B+for+Financial+Close+and+Consolidation+Solutions&amp;index=3&amp;md5=b4c283178cc565ad17006c0a9f80dacc\\\">2023 Gartner\\u00ae Magic Quadrant(TM) for Financial Close and Consolidation Solutions</url> .</p></bodyText></listItem><listItem><label>\\u2022</label><bodyText><p>Named a <url normalizedValue=\\\"https://cts.businesswire.com/ct/CT?id=smartlink&amp;url=https%3A%2F%2Fwww.trustradius.com%2Fvendor-blog%2Fbest-of-awards&amp;esheet=53878862&amp;newsitemid=20240108951995&amp;lan=en-US&amp;anchor=2023+Best+of+Award+Winner&amp;index=4&amp;md5=0b75a4daaeb7ce6483a5cf32e6e6467e\\\">2023 Best of Award Winner</url> by TrustRadius.</p></bodyText></listItem><listItem><label>\\u2022</label><bodyText><p>Recognized on <url normalizedValue=\\\"https://cts.businesswire.com/ct/CT?id=smartlink&amp;url=https%3A%2F%2Fwww.cloud-awards.com%2F2023-2024-cloud-awards-shortlist&amp;esheet=53878862&amp;newsitemid=20240108951995&amp;lan=en-US&amp;anchor=The+Cloud+Awards+2023-2024+Shortlist&amp;index=5&amp;md5=16eef8fd0d3bdd4d70bcb56c03159078\\\">The Cloud Awards 2023-2024 Shortlist</url> for Best Software as a Service (USA-Enterprise).</p></bodyText></listItem><listItem><label>\\u2022</label><bodyText><p>Polaris and OneStream were recognized by Ventana Research as a winner in the <url normalizedValue=\\\"https://cts.businesswire.com/ct/CT?id=smartlink&amp;url=https%3A%2F%2Fwww.onestream.com%2Fnews%2Fpolaris-inc-named-2023-digital-leadership-award-winner-by-ventana-research%2F&amp;esheet=53878862&amp;newsitemid=20240108951995&amp;lan=en-US&amp;anchor=16th+Annual+Digital+Leadership+Awards&amp;index=6&amp;md5=600dcf3036ded116b40fbe7240889d0f\\\">16th Annual Digital Leadership Awards</url> in the Office of Finance category for leveraging Sensible Machine Learning (ML) to transform the company's forecasting and planning processes.</p></bodyText></listItem><listItem><label>\\u2022</label><bodyText><p>Recognized as a winner of the <url normalizedValue=\\\"https://cts.businesswire.com/ct/CT?id=smartlink&amp;url=https%3A%2F%2Fwww.onestream.com%2Fnews%2Fonestream-software-named-winner-of-michigan-top-workplaces-2023-award-by-detroit-free-press%2F&amp;esheet=53878862&amp;newsitemid=20240108951995&amp;lan=en-US&amp;anchor=2023+Michigan+Top+Workplaces+Award&amp;index=7&amp;md5=9c195fe290d485965867a62e754f086c\\\">2023 Michigan Top Workplaces Award</url> by Detroit Free Press.</p></bodyText></listItem></list><p>OneStream is hosting its annual Splash User Conference and Partner Summit in Las Vegas, NV, from May 20-23, 2024. Registration will open in early 2024. For more information, visit <url normalizedValue=\\\"https://cts.businesswire.com/ct/CT?id=smartlink&amp;url=https%3A%2F%2Fconferences.onestream.com%2Fsplash-las-vegas%2F&amp;esheet=53878862&amp;newsitemid=20240108951995&amp;lan=en-US&amp;anchor=https%3A%2F%2Fconferences.onestream.com%2Fsplash-las-vegas%2F&amp;index=8&amp;md5=2a0357523e4f3de6f0db8466d2c2bc22\\\">https://conferences.onestream.com/splash-las-vegas/</url> .</p><p>About OneStream Software</p><p>OneStream provides an intelligent finance platform built to enable confident decision-making and maximize business impact. OneStream unleashes organizational value by unifying data management, financial close and consolidation, planning, reporting, analytics and machine learning. We empower finance and operations teams with AI-enabled insights to make faster and more intelligent decisions every single day. All in a single, modern CPM platform designed to continually evolve and scale with your organization.</p><p>OneStream is an independent software company backed by private equity investors KKR, Tidemark, Partners Fund Capital and Alkeon Capital Management. With nearly 1400 customers, more than 250 partners and roughly 1300 employees our primary mission is to deliver 100% customer success. To learn more visit <url normalizedValue=\\\"https://cts.businesswire.com/ct/CT?id=smartlink&amp;url=http%3A%2F%2Fwww.onestream.com&amp;esheet=53878862&amp;newsitemid=20240108951995&amp;lan=en-US&amp;anchor=www.onestream.com&amp;index=9&amp;md5=e120ae75a10bd6ecf1914d4f4370e1c2\\\">www.onestream.com</url> .</p><p>View source version on businesswire.com: <url normalizedValue=\\\"https://www.businesswire.com/news/home/20240108951995/en/\\\">https://www.businesswire.com/news/home/20240108951995/en/</url></p></bodyText></nitf:body.content><nitf:body.end><contact><bodyText><p><br/><br/>CONTACT: LeeAnn Coviello<br/>PAN Communications<br/><url normalizedValue=\\\"mailto:onestream@pancomm.com\\\">onestream@pancomm.com</url></p></bodyText></contact></nitf:body.end></nitf:body><metadata><dc:metadata xmlns:dc=\\\"http://purl.org/dc/elements/1.1/\\\"><dc:identifier identifierScheme=\\\"DOC-ID\\\">BWIRE-20240108951995</dc:identifier><dc:source sourceScheme=\\\"royaltyReportingKey\\\">BWIRE2024</dc:source><dc:identifier identifierScheme=\\\"PGUID\\\">urn:contentItem:6B2J-M2C1-DXY3-003N-00000-00</dc:identifier><dc:source sourceScheme=\\\"productContentSetIdentifier\\\">7924</dc:source><dc:date dateType=\\\"last-updated\\\">2024-01-09</dc:date></dc:metadata><wordCount number=\\\"692\\\"/><timeReceived>2:30 PM GMT</timeReceived><publicationInfo><copyright>Copyright 2024 Business Wire, Inc.</copyright><publicationName>Business Wire</publicationName><url normalizedValue=\\\"http://www.businesswire.com\\\">http://www.businesswire.com</url><publicationDate day=\\\"09\\\" month=\\\"01\\\" year=\\\"2024\\\"><dateText>January 9, 2024 Tuesday</dateText></publicationDate><classification classificationScheme=\\\"publicationtype\\\"><classificationItem><className>Newswire</className></classificationItem></classification><classification classificationScheme=\\\"publicationtype\\\"><classificationItem><className>Newswires &amp; Press Releases</className></classificationItem></classification></publicationInfo><classification classificationScheme=\\\"language\\\"><classificationItem classificationScheme=\\\"lang.english\\\"><className>ENGLISH</className></classificationItem></classification><classificationGroup classificationScheme=\\\"indexing-terms\\\"><classification classificationScheme=\\\"company\\\"><classificationItem score=\\\"57\\\"><classCode>CC0002FV5</classCode><className>PERDUE FARMS INC</className></classificationItem><classificationItem score=\\\"57\\\"><classCode>CC0002K62</classCode><className>VULCAN MATERIALS CO</className></classificationItem><classificationItem score=\\\"51\\\"><classCode>CC000834W</classCode><className>BEST INC</className></classificationItem></classification><classification classificationScheme=\\\"organization\\\"><classificationItem score=\\\"57\\\"><className>US DEFENSE INFORMATION SYSTEMS AGENCY</className></classificationItem></classification><classification classificationScheme=\\\"industry\\\"><classificationItem score=\\\"57\\\"><className>NAICS112340 POULTRY HATCHERIES</className></classificationItem><classificationItem score=\\\"57\\\"><className>NAICS112330 TURKEY PRODUCTION</className></classificationItem><classificationItem score=\\\"57\\\"><className>NAICS327320 READY-MIX CONCRETE MANUFACTURING</className></classificationItem><classificationItem score=\\\"57\\\"><className>NAICS212321 CONSTRUCTION SAND &amp; GRAVEL MINING</className></classificationItem><classificationItem score=\\\"57\\\"><className>NAICS212319 OTHER CRUSHED &amp; BROKEN STONE MINING &amp; QUARRYING</className></classificationItem><classificationItem score=\\\"57\\\"><className>NAICS212312 CRUSHED &amp; BROKEN LIMESTONE MINING &amp; QUARRYING</className></classificationItem><classificationItem score=\\\"51\\\"><className>SIC5999 MISCELLANEOUS RETAIL STORES, NEC</className></classificationItem></classification><classification classificationScheme=\\\"ticker\\\"><classificationItem score=\\\"57\\\"><className>VMC (NYSE)</className></classificationItem><classificationItem score=\\\"57\\\"><className>VMC (FRA)</className></classificationItem><classificationItem score=\\\"51\\\"><className>BEST (NYSE)</className></classificationItem></classification></classificationGroup><classificationGroup classificationScheme=\\\"licensor.indexing-terms\\\"><classification classificationScheme=\\\"licensor.company\\\"><classificationItem><className>MI-ONESTREAM-SOFTWARE</className></classificationItem></classification><classification classificationScheme=\\\"licensor.country\\\"><classificationItem><className>United States</className></classificationItem></classification><classification classificationScheme=\\\"licensor.industry\\\"><classificationItem><className>Software</className></classificationItem><classificationItem><className>Data Analytics</className></classificationItem><classificationItem><className>Finance</className></classificationItem><classificationItem><className>Artificial Intelligence</className></classificationItem><classificationItem><className>Data Management</className></classificationItem><classificationItem><className>Professional Services</className></classificationItem><classificationItem><className>Technology</className></classificationItem><classificationItem><className>Fintech</className></classificationItem></classification><classification classificationScheme=\\\"licensor.region\\\"><classificationItem><className>North America</className></classificationItem></classification><classification classificationScheme=\\\"licensor.state\\\"><classificationItem><className>Nevada</className></classificationItem><classificationItem><className>Michigan</className></classificationItem></classification><classification classificationScheme=\\\"licensor.subject\\\"><classificationItem><className>Award</className></classificationItem><classificationItem><className>Business Update</className></classificationItem><classificationItem><className>Conference</className></classificationItem></classification></classificationGroup><classificationGroup classificationScheme=\\\"indexing-terms\\\"><classification classificationScheme=\\\"subject\\\"><classificationItem score=\\\"90\\\"><classCode>ST000DM8Y</classCode><className>BUSINESS NEWS</className></classificationItem><classificationItem score=\\\"90\\\"><classCode>STX001928</classCode><className>COMPANY ACTIVITIES &amp; MANAGEMENT</className></classificationItem><classificationItem score=\\\"90\\\"><classCode>STX001372</classCode><className>PRESS RELEASES</className></classificationItem><classificationItem score=\\\"89\\\"><classCode>STX000116</classCode><className>ARTIFICIAL INTELLIGENCE</className></classificationItem><classificationItem score=\\\"89\\\"><classCode>STX000233</classCode><className>BUSINESS SOFTWARE</className></classificationItem><classificationItem score=\\\"78\\\"><classCode>STX000150</classCode><className>AWARDS &amp; PRIZES</className></classificationItem><classificationItem score=\\\"78\\\"><classCode>ST000A2YB</classCode><className>CASH FLOW</className></classificationItem><classificationItem score=\\\"78\\\"><classCode>STX000365</classCode><className>CONFERENCES &amp; CONVENTIONS</className></classificationItem><classificationItem score=\\\"78\\\"><classCode>ST000D1BY</classCode><className>EXECUTIVES</className></classificationItem><classificationItem score=\\\"73\\\"><classCode>ST0008XKI</classCode><className>BUSINESS CLIMATE &amp; CONDITIONS</className></classificationItem><classificationItem score=\\\"73\\\"><classCode>ST000DMWD</classCode><className>MACHINE LEARNING</className></classificationItem><classificationItem score=\\\"71\\\"><classCode>ST000916T</classCode><className>CUSTOMER RELATIONS</className></classificationItem></classification><classification classificationScheme=\\\"industry\\\"><classificationItem score=\\\"89\\\"><classCode>STX000116</classCode><className>ARTIFICIAL INTELLIGENCE</className></classificationItem><classificationItem score=\\\"89\\\"><classCode>STX000233</classCode><className>BUSINESS SOFTWARE</className></classificationItem><classificationItem score=\\\"89\\\"><classCode>ST000A39R</classCode><className>COMPUTER SOFTWARE</className></classificationItem><classificationItem score=\\\"89\\\"><classCode>ST00093QP</classCode><className>FINANCIAL PLANNING</className></classificationItem><classificationItem score=\\\"78\\\"><classCode>ST000DS7O</classCode><className>AS A SERVICE</className></classificationItem><classificationItem score=\\\"78\\\"><classCode>STX001897</classCode><className>COMPUTING &amp; INFORMATION TECHNOLOGY</className></classificationItem><classificationItem score=\\\"78\\\"><classCode>ST0008ZHS</classCode><className>INFORMATION MANAGEMENT &amp; TECHNOLOGY</className></classificationItem><classificationItem score=\\\"78\\\"><classCode>ST000C489</classCode><className>SOFTWARE AS A SERVICE</className></classificationItem><classificationItem score=\\\"78\\\"><classCode>ST000DSQ5</classCode><className>TECHNICAL DEBT</className></classificationItem><classificationItem score=\\\"78\\\"><classCode>ST0009RXL</classCode></classificationItem><classificationItem score=\\\"73\\\"><classCode>ST000DMWD</classCode><className>MACHINE LEARNING</className></classificationItem></classification><classification classificationScheme=\\\"city\\\"><classificationItem score=\\\"79\\\"><classCode>GX468</classCode><className>LAS VEGAS, NV, USA</className></classificationItem></classification><classification classificationScheme=\\\"state\\\"><classificationItem score=\\\"92\\\"><classCode>GS144</classCode><className>NEVADA, USA</className></classificationItem><classificationItem score=\\\"91\\\"><classCode>GS138</classCode><className>MICHIGAN, USA</className></classificationItem></classification><classification classificationScheme=\\\"country\\\"><classificationItem score=\\\"93\\\"><classCode>GC343</classCode><className>UNITED STATES</className></classificationItem><classificationItem score=\\\"79\\\"><classCode>GR120</classCode><className>NORTH AMERICA</className></classificationItem></classification></classificationGroup></metadata></articleDoc></content></entry>\",\n",
            "        \"Citation\": \"\",\n",
            "        \"GenAIEnabled\": null\n",
            "    },\n",
            "    \"Source\": {\n",
            "        \"Id\": \"\",\n",
            "        \"Name\": \"Business Wire\",\n",
            "        \"ContentType\": \"News\"\n",
            "    }\n",
            "}\n"
          ]
        }
      ],
      "source": [
        "import gzip\n",
        "import json\n",
        "import glob\n",
        "import os\n",
        "\n",
        "# Path to the sample-data directory\n",
        "data_dir = \"dai-project/sample-data\"\n",
        "json_list = []\n",
        "\n",
        "# Find all .jsonl.gz files in the directory\n",
        "for file_path in glob.glob(os.path.join(data_dir, \"*.jsonl.gz\")):\n",
        "    with gzip.open(file_path, 'rt', encoding='utf-8') as f:\n",
        "        for line in f:\n",
        "            json_list.append(json.loads(line))\n",
        "\n",
        "# Now json_list contains all the JSON objects from the .jsonl.gz files\n",
        "print(f\"Loaded {len(json_list)} JSON objects from .jsonl.gz files.\")\n",
        "\n",
        "# Print the first JSON object\n",
        "print(json.dumps(json_list[0], indent=4))"
      ]
    },
    {
      "cell_type": "code",
      "source": [
        "from bs4 import BeautifulSoup\n",
        "import re\n",
        "\n",
        "# get the tickers from the file tickers.txt\n",
        "with open(\"dai-project/tickers.txt\", \"r\") as f:\n",
        "    tickers = f.read().splitlines()\n",
        "\n",
        "html_str = json_list[835][\"Document\"][\"Content\"]\n",
        "text = \"\"\n",
        "if html_str:\n",
        "    soup = BeautifulSoup(html_str, 'html.parser')\n",
        "    body_tag = soup.find('nitf:body.content')\n",
        "    if body_tag:\n",
        "        text = body_tag.get_text()\n",
        "\n",
        "#matches = re.findall(r'\\(([A-Za-z]+): ?([A-Z]+)\\)', text)\n",
        "# Regex: matches market:ticker in () or [], market allows spaces, ticker allows dots/hyphens\n",
        "#pattern = r'[\\(\\[]([A-Za-z ]+): ?([A-Za-z0-9\\.\\-]+)[\\)\\]]'\n",
        "#matches = re.findall(pattern, text, re.IGNORECASE)\n",
        "\n",
        "# Improved regex, allows for trailing spaces after ticker before closing bracket/parenthesis\n",
        "pattern = r'[\\(\\[]([A-Za-z ]+): ?([A-Za-z0-9\\.\\-]+) *[\\)\\]]'\n",
        "matches = re.findall(pattern, text, re.IGNORECASE)\n",
        "print(matches)"
      ],
      "metadata": {
        "colab": {
          "base_uri": "https://localhost:8080/"
        },
        "id": "h_RxDplzTsft",
        "outputId": "d375ad1d-ea9b-4310-90f9-fc67597619d8"
      },
      "execution_count": 19,
      "outputs": [
        {
          "output_type": "stream",
          "name": "stdout",
          "text": [
            "[]\n"
          ]
        }
      ]
    },
    {
      "cell_type": "code",
      "source": [
        "text"
      ],
      "metadata": {
        "colab": {
          "base_uri": "https://localhost:8080/",
          "height": 487
        },
        "id": "w5XxEfdQT8aN",
        "outputId": "68acdb03-e111-46ea-bc21-e0dbe4395487"
      },
      "execution_count": 20,
      "outputs": [
        {
          "output_type": "execute_result",
          "data": {
            "text/plain": [
              "'Eleanor Health, the first addiction and mental health provider delivering comprehensive, whole-person care through value-based payment models, today announced the appointment of William McKinney as Chief Executive Officer and member of Board of Directors, effective January 9, 2024.This press release features multimedia. View the full release here: https://www.businesswire.com/news/home/20240116788545/en/Nationally recognized leader in value-based care delivery for complex populations (Photo: Business Wire)William was most recently the CEO of Sevita (formerly The MENTOR Network), the leading provider of home and community-based specialty health care with 45,000 employees serving over 55,000 individuals. He led Sevita through several years of exceptional top- and bottom-line growth culminating in a successful transaction in 2022. Prior to joining Sevita in 2019, William served as president of the Integrated Care Group for Fresenius Medical Care (FMC), where he managed multiple business lines including Fresenius Health Partners, FreseniusRx, MedSpring Urgent Care and FMC\\'s managed care contracting. William previously held senior leadership roles at MedSpring Urgent Care and WellCare Health Plans and also consulted for McKinsey & Company.\"My passion in healthcare is trying to solve the hard problems, and there aren\\'t many things more challenging than addiction treatment,\" McKinney said. \"When you tackle the big issues in healthcare, it\\'s critical to consider the whole person - physical health, mental health, and social well-being. This approach is the heart and soul of Eleanor, and working towards this vision is the reason I\\'m here.\"Eleanor delivers in-person and virtual substance use disorder care, underpinned by a harm-reduction clinical model. By meeting people where they are, Eleanor\\'s approach opens the door for individuals to receive care who may not otherwise seek help or who may face barriers that prevent their illnesses from responding well to traditional methods of treatment. The trusted relationships Eleanor forms with its members uniquely positions them to coordinate integrated care and address all drivers of health: physical, social and mental. This is all underpinned by value-based payment models, proprietary technology and data-driven insights, which allow Eleanor to drive sustainable outcomes and total-cost-of-care reduction across large populations.\"William has a proven track record of delivering mission and margin, at scale. His deep knowledge of value-based contracting and care delivery for complex populations positions him well to propel Eleanor to further success in its mission to transform the quality, delivery and accessibility of addiction treatment,\" said David Whelan, Board Chair of Eleanor Health and Co-Founder and General Partner of Town Hall Ventures, Eleanor\\'s founding investor.Eleanor is in seven markets today and currently has 17 value-based contracts, including with three national payers. The company achieved this industry-leading commercial traction due in part to its approach - a much-needed departure from more traditional residential and outpatient recovery programs that are fee-for-service, short-term and abstinence based. These treatment modalities can be notoriously costly and ineffective with relapse rates as high as ~85% and cost upwards of $30k for a 30-day stay. People cycle in and out of these programs without connection to longitudinal care, resulting in only a small percentage achieving sustainable outcomes while driving enormous spend.Chris Bischoff, Managing Director, General Catalyst, said: \"At General Catalyst, we are committed to partnering with ambitious entrepreneurs who are dedicated to transformational change that drives outsized impact. The large, underserved population Eleanor serves coupled with what we believe is a pioneering approach fits squarely into this thesis, and is why we invested in the business. We are thrilled to have what we think is a world-class leader like William who has both vision and execution-orientation at the helm.\"About Eleanor HealthEleanor Health provides evidence-based, whole-person care specializing in addressing the unique complexities of individuals and populations with substance use disorders and mental health needs. Eleanor leverages proprietary technology and data-driven insights, compassionate teams, and population- and value-based payment to deliver superior clinical and financial outcomes. To learn more, visit: www.eleanorhealth.comView source version on businesswire.com: https://www.businesswire.com/news/home/20240116788545/en/'"
            ],
            "application/vnd.google.colaboratory.intrinsic+json": {
              "type": "string"
            }
          },
          "metadata": {},
          "execution_count": 20
        }
      ]
    },
    {
      "cell_type": "code",
      "source": [
        "from bs4 import BeautifulSoup\n",
        "import re\n",
        "\n",
        "# get the tickers from the file tickers.txt\n",
        "with open(\"dai-project/tickers.txt\", \"r\") as f:\n",
        "    tickers = f.read().splitlines()\n",
        "\n",
        "pattern = r'[\\(\\[]([A-Za-z ]+): ?([A-Za-z0-9\\.\\-]+) *[\\)\\]]'\n",
        "non_zero_matches_count = 0\n",
        "RANGE = 5000\n",
        "\n",
        "for i in range(RANGE):\n",
        "    html_str = json_list[i][\"Document\"][\"Content\"]\n",
        "    text = \"\"\n",
        "    if html_str:\n",
        "        soup = BeautifulSoup(html_str, 'html.parser')\n",
        "        body_tag = soup.find('nitf:body.content')\n",
        "        if body_tag:\n",
        "            text = body_tag.get_text()\n",
        "\n",
        "    matches = re.findall(pattern, text, re.IGNORECASE)\n",
        "    if len(matches) > 0:\n",
        "        non_zero_matches_count += 1\n",
        "\n",
        "print(f\"Number of JSON objects with non-zero matches in the first {RANGE}: {non_zero_matches_count}\")"
      ],
      "metadata": {
        "colab": {
          "base_uri": "https://localhost:8080/"
        },
        "id": "7YzEpNw_ZvlR",
        "outputId": "8fbe58a5-7418-4190-e231-a5ec04b639d6"
      },
      "execution_count": 23,
      "outputs": [
        {
          "output_type": "stream",
          "name": "stdout",
          "text": [
            "Number of JSON objects with non-zero matches in the first 5000: 3504\n"
          ]
        }
      ]
    },
    {
      "cell_type": "code",
      "source": [],
      "metadata": {
        "id": "OE3V2zn7ad3f"
      },
      "execution_count": null,
      "outputs": []
    }
  ]
}
