{
  "nbformat": 4,
  "nbformat_minor": 0,
  "metadata": {
    "colab": {
      "provenance": [],
      "authorship_tag": "ABX9TyMl+iYJPxpAOaULX1sMJVAs",
      "include_colab_link": true
    },
    "kernelspec": {
      "name": "python3",
      "display_name": "Python 3"
    },
    "language_info": {
      "name": "python"
    }
  },
  "cells": [
    {
      "cell_type": "markdown",
      "metadata": {
        "id": "view-in-github",
        "colab_type": "text"
      },
      "source": [
        "<a href=\"https://colab.research.google.com/github/hmezer/dai-project/blob/main/press_release_ticker_match.ipynb\" target=\"_parent\"><img src=\"https://colab.research.google.com/assets/colab-badge.svg\" alt=\"Open In Colab\"/></a>"
      ]
    },
    {
      "cell_type": "code",
      "source": [
        "!git clone https://github.com/hmezer/dai-project"
      ],
      "metadata": {
        "colab": {
          "base_uri": "https://localhost:8080/"
        },
        "id": "zFhgX_KUTpSb",
        "outputId": "84e19797-6721-467b-9dc9-435ea47911be"
      },
      "execution_count": 1,
      "outputs": [
        {
          "output_type": "stream",
          "name": "stdout",
          "text": [
            "Cloning into 'dai-project'...\n",
            "remote: Enumerating objects: 46, done.\u001b[K\n",
            "remote: Counting objects: 100% (46/46), done.\u001b[K\n",
            "remote: Compressing objects: 100% (43/43), done.\u001b[K\n",
            "remote: Total 46 (delta 15), reused 0 (delta 0), pack-reused 0 (from 0)\u001b[K\n",
            "Receiving objects: 100% (46/46), 19.63 MiB | 26.03 MiB/s, done.\n",
            "Resolving deltas: 100% (15/15), done.\n"
          ]
        }
      ]
    },
    {
      "cell_type": "code",
      "execution_count": 12,
      "metadata": {
        "colab": {
          "base_uri": "https://localhost:8080/"
        },
        "id": "MiozabAVNr-w",
        "outputId": "c13e18ac-8ba5-439c-9d3b-dcdb4768f9f2"
      },
      "outputs": [
        {
          "output_type": "stream",
          "name": "stdout",
          "text": [
            "Loaded 5059 JSON objects from .jsonl.gz files.\n",
            "{\n",
            "    \"ResultId\": \"urn:contentItem:6B48-4N81-DXY3-003T-00000-00\",\n",
            "    \"Date\": \"2024-01-17T00:00:00Z\",\n",
            "    \"Title\": \"Advanced Medicine Partners Launches to Set New Standard for Manufacturing and Testing Advanced Medicines\",\n",
            "    \"Document\": {\n",
            "        \"DocumentId\": \"/shared/document/news/urn:contentItem:6B48-4N81-DXY3-003T-00000-00\",\n",
            "        \"DocumentIdType\": \"DocFullPath\",\n",
            "        \"Content\": \"<entry xmlns=\\\"http://www.w3.org/2005/Atom\\\"><id>urn:contentItem:6B48-4N81-DXY3-003T-00000-00</id><title>Advanced Medicine Partners Launches to Set New Standard for Manufacturing and Testing Advanced Medicines</title><published>2024-01-17T00:00:00Z</published><updated>2025-06-11T07:21:37Z</updated><author><name>LexisNexis</name></author><content type=\\\"application/xml\\\"><!--Transformation version 1.25--><articleDoc xmlns=\\\"\\\" xmlns:xsi=\\\"http://www.w3.org/2001/XMLSchema-instance\\\" xsi:noNamespaceSchemaLocation=\\\"http://www.lexisnexis.com/xmlschemas/content/public/articledoc/1/\\\" schemaVersion=\\\"1.8\\\" xml:lang=\\\"en\\\"><articleDocHead><itemInfo/></articleDocHead><nitf:body xmlns:nitf=\\\"http://iptc.org/std/NITF/2006-10-18/\\\"><nitf:body.head><nitf:hedline><nitf:hl1>Advanced Medicine Partners Launches to Set New Standard for Manufacturing and Testing Advanced Medicines</nitf:hl1></nitf:hedline><nitf:dateline><location>DURHAM, N.C.</location></nitf:dateline></nitf:body.head><nitf:body.content><bodyText><p nitf:lede=\\\"true\\\">Advanced Medicine Partners, an organization that delivers process development, manufacturing, analytical development and testing for advanced therapy products, today announced its launch from Jaguar Gene Therapy with funding led by Deerfield Management Company, with additional investors including ARCH Venture Partners, Nolan Capital and others. The newly independent company is helmed by a team of experts who were directly responsible for the CMC efforts for numerous commercially available therapeutics including three globally approved gene therapies. The organization will continue to lead CMC efforts for Jaguar Gene Therapy's pipeline programs, will support CMC work for Deerfield academic projects and private portfolio companies, and has initiated work for several biotech and pharmaceutical clients.</p><p nitf:lede=\\\"true\\\">\\\"Advanced Medicine Partners is a science- and mission-driven organization made up of one of the most experienced genetic medicines teams in the industry, and we are driven to deliver products and services that aim to set a new standard in the manufacturing and testing of innovative therapies,\\\" said Andrew Knudten, CEO of Advanced Medicine Partners. \\\"With so many biotechnology companies being slowed or halted due to manufacturing challenges including product quality and scalability, we have the experienced people and technology to deliver what's acutely needed right now - therapeutic product with purity and potency levels that exceed expectations of partnering companies and regulators, and that will potentially bring positive benefit to patients.\\\"</p><p>Advanced Medicine Partners has a proprietary and proven development platform and has established a robust and reproducible adeno-associated virus (AAV) manufacturing process, which is among the most productive in the industry and consistently generates industry-leading functional full capsid ratios. Advanced Medicine Partners' process has been used with multiple genes of interest as well as multiple wild-type AAV serotypes and engineered capsids. This manufacturing process prioritizes patient safety while reducing cost of goods and will strive to set the standard for what regulatory agencies expect and patients deserve. The company has also developed a suite of platform analytical methods that can be licensed and offers assay development services.</p><p>Advanced Medicine Partners brings extensive operational experience from Jaguar Gene Therapy and other biotechnology companies, including AveXis, Novartis and Amgen. The Advanced Medicine Partners team has manufactured upwards of 350 total non-GMP batches and supplied over 20 preclinical studies, including IND-enabling efficacy and good laboratory practice (GLP) toxicology studies, as part of Jaguar. In addition to Advanced Medicine Partners' manufacturing and analytical testing capabilities, the company offers GMP tech transfer capabilities and virtual CMC support.</p><p>Advanced Medicine Partners currently operates with more than 33,000 square feet of lab, office and warehouse space in Cary and Durham, North Carolina. The company is in the process of building out a 174,000-square-foot GMP manufacturing facility in Durham. Advanced Medicine Partners has the ability to build dedicated capacity for partnered companies in this new facility.</p><p>\\\"We are very pleased to partner with the highly experienced team at Advanced Medicine Partners,\\\" said Jonathan Leff, Partner at Deerfield Management Company. \\\"With the demonstrated track record of the leadership team, the company brings much needed expertise and capability to the development and manufacturing of advanced products such as gene and cell therapies.\\\"</p><p>ABOUT ADVANCED MEDICINE PARTNERS</p><p>Advanced Medicine Partners, LLC is driven to accelerate the development of innovative advanced medicines to enable partnering companies to make a positive difference for the patients they serve. With one of the most experienced genetic medicines teams - at all levels, from bench to boardroom - in the industry, the company uses its expertise to produce best-in-class advanced therapy products and analytics. Advanced Medicine Partners' exclusive manufacturing platform consistently produces yields that are among the highest in the industry and purity profiles that continue to push the boundaries of what's possible. For more information, please visit <url normalizedValue=\\\"https://cts.businesswire.com/ct/CT?id=smartlink&amp;url=http%3A%2F%2Fwww.ampgtx.com&amp;esheet=53883242&amp;newsitemid=20240117676350&amp;lan=en-US&amp;anchor=www.ampgtx.com&amp;index=1&amp;md5=47acd889aa4de163613b4fab996e0ca4\\\">www.ampgtx.com</url> and follow Advanced Medicine Partners on <url normalizedValue=\\\"https://cts.businesswire.com/ct/CT?id=smartlink&amp;url=http%3A%2F%2Flinkedin.com%2Fcompany%2Fampgtx&amp;esheet=53883242&amp;newsitemid=20240117676350&amp;lan=en-US&amp;anchor=LinkedIn&amp;index=2&amp;md5=613a0b38a78195cf1f54d39f4a194cb6\\\">LinkedIn</url> .</p><p>ABOUT JAGUAR GENE THERAPY</p><p>Jaguar Gene Therapy, LLC is dedicated to accelerating breakthroughs in gene therapy for patients suffering from severe genetic diseases including those that impact sizeable patient populations. The company is made up of a proven team of experts who have first-hand experience in bringing novel gene therapy treatments to patients and their families. Jaguar is rapidly advancing an initial pipeline of three programs. The company's lead program, with a pending IND, targets severe neurodevelopmental disorders caused by mutations or deletions in SHANK3 including a genetic form of autism spectrum disorder and Phelan-McDermid syndrome. The second pipeline program targets Type 1 galactosemia and the third targets Type 1 diabetes. Jaguar partners with <url normalizedValue=\\\"https://cts.businesswire.com/ct/CT?id=smartlink&amp;url=http%3A%2F%2Fwww.ampgtx.com&amp;esheet=53883242&amp;newsitemid=20240117676350&amp;lan=en-US&amp;anchor=Advanced+Medicine+Partners&amp;index=3&amp;md5=66a536abc0000bdc795513cd81dc4747\\\">Advanced Medicine Partners</url> , soon to be spun out from Jaguar, to produce its therapeutics. For more information, please visit <url normalizedValue=\\\"https://cts.businesswire.com/ct/CT?id=smartlink&amp;url=http%3A%2F%2Fwww.jaguargenetherapy.com&amp;esheet=53883242&amp;newsitemid=20240117676350&amp;lan=en-US&amp;anchor=www.jaguargenetherapy.com&amp;index=4&amp;md5=5941e06e1080839cb36b6a26109757ad\\\">www.jaguargenetherapy.com</url> and follow Jaguar Gene Therapy on <url normalizedValue=\\\"https://cts.businesswire.com/ct/CT?id=smartlink&amp;url=https%3A%2F%2Fwww.linkedin.com%2Fcompany%2F75743525%2Fadmin%2F&amp;esheet=53883242&amp;newsitemid=20240117676350&amp;lan=en-US&amp;anchor=LinkedIn&amp;index=5&amp;md5=0d44f59997f4b0358ea81b91f6a75265\\\">LinkedIn</url> .</p><p>View source version on businesswire.com: <url normalizedValue=\\\"https://www.businesswire.com/news/home/20240117676350/en/\\\">https://www.businesswire.com/news/home/20240117676350/en/</url></p></bodyText></nitf:body.content><nitf:body.end><contact><bodyText><p><br/><br/>CONTACT: Kate Neer<br/><url normalizedValue=\\\"mailto:media@ampgtx.com\\\">media@ampgtx.com</url><br/>(815) 978-3891</p></bodyText></contact></nitf:body.end></nitf:body><metadata><dc:metadata xmlns:dc=\\\"http://purl.org/dc/elements/1.1/\\\"><dc:identifier identifierScheme=\\\"DOC-ID\\\">BWIRE-20240117676350</dc:identifier><dc:source sourceScheme=\\\"royaltyReportingKey\\\">BWIRE2024</dc:source><dc:identifier identifierScheme=\\\"PGUID\\\">urn:contentItem:6B48-4N81-DXY3-003T-00000-00</dc:identifier><dc:source sourceScheme=\\\"productContentSetIdentifier\\\">7924</dc:source><dc:date dateType=\\\"last-updated\\\">2024-01-17</dc:date></dc:metadata><wordCount number=\\\"909\\\"/><timeReceived>1:00 PM GMT</timeReceived><publicationInfo><copyright>Copyright 2024 Business Wire, Inc.</copyright><publicationName>Business Wire</publicationName><url normalizedValue=\\\"http://www.businesswire.com\\\">http://www.businesswire.com</url><publicationDate day=\\\"17\\\" month=\\\"01\\\" year=\\\"2024\\\"><dateText>January 17, 2024 Wednesday</dateText></publicationDate><classification classificationScheme=\\\"publicationtype\\\"><classificationItem><className>Newswire</className></classificationItem></classification><classification classificationScheme=\\\"publicationtype\\\"><classificationItem><className>Newswires &amp; Press Releases</className></classificationItem></classification></publicationInfo><classification classificationScheme=\\\"language\\\"><classificationItem classificationScheme=\\\"lang.english\\\"><className>ENGLISH</className></classificationItem></classification><classificationGroup classificationScheme=\\\"indexing-terms\\\"><classification classificationScheme=\\\"company\\\"><classificationItem score=\\\"72\\\"><classCode>CC0009Y50</classCode><className>ARCH VENTURE PARTNERS</className></classificationItem><classificationItem score=\\\"58\\\"><classCode>CC0002JOI</classCode><className>NOVARTIS AG</className></classificationItem><classificationItem score=\\\"57\\\"><classCode>CC0001QGC</classCode><className>AMGEN INC</className></classificationItem><classificationItem score=\\\"52\\\"><classCode>CC000DKPQ</classCode><className>AVEXIS INC</className></classificationItem></classification><classification classificationScheme=\\\"industry\\\"><classificationItem score=\\\"72\\\"><className>NAICS523910 MISCELLANEOUS INTERMEDIATION</className></classificationItem><classificationItem score=\\\"72\\\"><className>SIC6799 INVESTORS, NEC</className></classificationItem><classificationItem score=\\\"58\\\"><className>NAICS339115 OPHTHALMIC GOODS MANUFACTURING</className></classificationItem><classificationItem score=\\\"58\\\"><className>NAICS325412 PHARMACEUTICAL PREPARATION MANUFACTURING</className></classificationItem><classificationItem score=\\\"58\\\"><className>SIC3851 OPHTHALMIC GOODS</className></classificationItem><classificationItem score=\\\"58\\\"><className>SIC2834 PHARMACEUTICAL PREPARATIONS</className></classificationItem><classificationItem score=\\\"57\\\"><className>NAICS541715 RESEARCH &amp; DEVELOPMENT IN THE PHYSICAL, ENGINEERING, &amp; LIFE SCIENCES (EXCEPT NANOTECH &amp; BIOTECH)</className></classificationItem><classificationItem score=\\\"57\\\"><className>NAICS325414 BIOLOGICAL PRODUCT (EXCEPT DIAGNOSTIC) MANUFACTURING</className></classificationItem><classificationItem score=\\\"57\\\"><className>SIC2836 BIOLOGICAL PRODUCTS, EXCEPT DIAGNOSTIC SUBSTANCES</className></classificationItem><classificationItem score=\\\"52\\\"><className>NAICS541714 RESEARCH &amp; DEVELOPMENT IN BIOTECHNOLOGY (EXCEPT NANOBIOTECHNOLOGY)</className></classificationItem><classificationItem score=\\\"52\\\"><className>NAICS541713 RESEARCH &amp; DEVELOPMENT IN NANOTECHNOLOGY</className></classificationItem></classification><classification classificationScheme=\\\"ticker\\\"><classificationItem score=\\\"58\\\"><className>NVS (NYSE)</className></classificationItem><classificationItem score=\\\"58\\\"><className>NOVN (SWX)</className></classificationItem><classificationItem score=\\\"57\\\"><className>AMGN (NASDAQ)</className></classificationItem></classification></classificationGroup><classificationGroup classificationScheme=\\\"licensor.indexing-terms\\\"><classification classificationScheme=\\\"licensor.company\\\"><classificationItem><className>NC-ADVANCED-MEDICINE</className></classificationItem></classification><classification classificationScheme=\\\"licensor.country\\\"><classificationItem><className>United States</className></classificationItem></classification><classification classificationScheme=\\\"licensor.industry\\\"><classificationItem><className>Health</className></classificationItem><classificationItem><className>Genetics</className></classificationItem><classificationItem><className>Other Health</className></classificationItem><classificationItem><className>General Health</className></classificationItem><classificationItem><className>Research</className></classificationItem><classificationItem><className>Science</className></classificationItem><classificationItem><className>Pharmaceutical</className></classificationItem></classification><classification classificationScheme=\\\"licensor.region\\\"><classificationItem><className>North America</className></classificationItem></classification><classification classificationScheme=\\\"licensor.state\\\"><classificationItem><className>North Carolina</className></classificationItem></classification><classification classificationScheme=\\\"licensor.subject\\\"><classificationItem><className>Product/Service</className></classificationItem></classification></classificationGroup><classificationGroup classificationScheme=\\\"indexing-terms\\\"><classification classificationScheme=\\\"subject\\\"><classificationItem score=\\\"92\\\"><classCode>STX000186</classCode><className>BIOTECHNOLOGY &amp; GENETIC SCIENCE</className></classificationItem><classificationItem score=\\\"90\\\"><classCode>ST000A7IS</classCode><className>ASSOCIATIONS &amp; ORGANIZATIONS</className></classificationItem><classificationItem score=\\\"90\\\"><classCode>STX002099</classCode><className>GENETIC &amp; MOLECULAR MEDICINE</className></classificationItem><classificationItem score=\\\"90\\\"><classCode>STX000785</classCode><className>GENETIC ENGINEERING</className></classificationItem><classificationItem score=\\\"90\\\"><classCode>STX001372</classCode><className>PRESS RELEASES</className></classificationItem><classificationItem score=\\\"90\\\"><classCode>ST000DSES</classCode><className>REGENERATIVE MEDICINE</className></classificationItem><classificationItem score=\\\"89\\\"><classCode>STX001895</classCode><className>BIOTECHNOLOGY INDUSTRY</className></classificationItem><classificationItem score=\\\"79\\\"><classCode>ST0009SQW</classCode><className>PRIVATELY HELD COMPANIES</className></classificationItem><classificationItem score=\\\"79\\\"><classCode>ST000DR76</classCode><className>PURPOSE DRIVEN BUSINESS</className></classificationItem><classificationItem score=\\\"79\\\"><classCode>STX001475</classCode><className>RESEARCH &amp; DEVELOPMENT</className></classificationItem><classificationItem score=\\\"78\\\"><classCode>STX000072</classCode><className>ALLIANCES &amp; PARTNERSHIPS</className></classificationItem><classificationItem score=\\\"78\\\"><classCode>ST0009543</classCode><className>GENES &amp; CHROMOSOMES</className></classificationItem><classificationItem score=\\\"78\\\"><classCode>ST0008X7D</classCode><className>MANUFACTURING FACILITIES</className></classificationItem><classificationItem score=\\\"78\\\"><classCode>STX002001</classCode><className>MEDICAL TECHNOLOGY</className></classificationItem><classificationItem score=\\\"78\\\"><classCode>STX002021</classCode><className>SAFETY</className></classificationItem><classificationItem score=\\\"78\\\"><classCode>ST000A4IZ</classCode><className>TOXICOLOGY</className></classificationItem><classificationItem score=\\\"72\\\"><classCode>ST000D1BY</classCode><className>EXECUTIVES</className></classificationItem><classificationItem score=\\\"67\\\"><classCode>STX001692</classCode><className>TECHNOLOGY TRANSFER</className></classificationItem><classificationItem score=\\\"58\\\"><classCode>STX002145</classCode><className>VIRUSES</className></classificationItem><classificationItem score=\\\"50\\\"><classCode>STX001963</classCode><className>SAFETY, ACCIDENTS &amp; DISASTERS</className></classificationItem></classification><classification classificationScheme=\\\"industry\\\"><classificationItem score=\\\"91\\\"><classCode>STX002014</classCode><className>MANUFACTURING</className></classificationItem><classificationItem score=\\\"90\\\"><classCode>ST000DPZR</classCode><className>BIOPHARMACEUTICALS</className></classificationItem><classificationItem score=\\\"90\\\"><classCode>STX000779</classCode><className>GENE BASED DRUGS</className></classificationItem><classificationItem score=\\\"90\\\"><classCode>STX001911</classCode><className>PHARMACEUTICALS &amp; BIOTECHNOLOGY</className></classificationItem><classificationItem score=\\\"89\\\"><classCode>STX001895</classCode><className>BIOTECHNOLOGY INDUSTRY</className></classificationItem><classificationItem score=\\\"89\\\"><classCode>ST000DS8B</classCode><className>MANUFACTURING TECHNOLOGY</className></classificationItem><classificationItem score=\\\"89\\\"><classCode>STX001322</classCode><className>PHARMACEUTICALS PRODUCT DEVELOPMENT</className></classificationItem><classificationItem score=\\\"78\\\"><classCode>ST000CVNC</classCode><className>INVESTIGATIONAL DRUGS</className></classificationItem><classificationItem score=\\\"78\\\"><classCode>ST0008X7D</classCode><className>MANUFACTURING FACILITIES</className></classificationItem><classificationItem score=\\\"78\\\"><classCode>STX002001</classCode><className>MEDICAL TECHNOLOGY</className></classificationItem><classificationItem score=\\\"78\\\"><classCode>N325412MM</classCode><className>PHARMACEUTICAL PREPARATION MFG</className></classificationItem><classificationItem score=\\\"78\\\"><classCode>STX001323</classCode><className>PHARMACEUTICALS INDUSTRY</className></classificationItem><classificationItem score=\\\"78\\\"><classCode>ST000A4IZ</classCode><className>TOXICOLOGY</className></classificationItem><classificationItem score=\\\"62\\\"><classCode>ST000DF3T</classCode><className>NEW CONSTRUCTION</className></classificationItem><classificationItem score=\\\"62\\\"><classCode>N493000CC</classCode><className>WAREHOUSING &amp; STORAGE</className></classificationItem></classification><classification classificationScheme=\\\"city\\\"><classificationItem score=\\\"89\\\"><classCode>ST000D1W0</classCode><className>DURHAM, NC, USA</className></classificationItem></classification><classification classificationScheme=\\\"state\\\"><classificationItem score=\\\"93\\\"><classCode>GS149</classCode><className>NORTH CAROLINA, USA</className></classificationItem></classification><classification classificationScheme=\\\"country\\\"><classificationItem score=\\\"79\\\"><classCode>GR120</classCode><className>NORTH AMERICA</className></classificationItem><classificationItem score=\\\"79\\\"><classCode>GC343</classCode><className>UNITED STATES</className></classificationItem></classification></classificationGroup></metadata></articleDoc></content></entry>\",\n",
            "        \"Citation\": \"\",\n",
            "        \"GenAIEnabled\": null\n",
            "    },\n",
            "    \"Source\": {\n",
            "        \"Id\": \"\",\n",
            "        \"Name\": \"Business Wire\",\n",
            "        \"ContentType\": \"News\"\n",
            "    }\n",
            "}\n"
          ]
        }
      ],
      "source": [
        "import gzip\n",
        "import json\n",
        "import glob\n",
        "import os\n",
        "\n",
        "# Path to the sample-data directory\n",
        "data_dir = \"dai-project/sample-data\"\n",
        "json_list = []\n",
        "\n",
        "# Find all .jsonl.gz files in the directory\n",
        "for file_path in glob.glob(os.path.join(data_dir, \"*.jsonl.gz\")):\n",
        "    with gzip.open(file_path, 'rt', encoding='utf-8') as f:\n",
        "        for line in f:\n",
        "            json_list.append(json.loads(line))\n",
        "\n",
        "# Now json_list contains all the JSON objects from the .jsonl.gz files\n",
        "print(f\"Loaded {len(json_list)} JSON objects from .jsonl.gz files.\")\n",
        "\n",
        "# Print the first JSON object\n",
        "print(json.dumps(json_list[0], indent=4))"
      ]
    },
    {
      "cell_type": "code",
      "source": [
        "from bs4 import BeautifulSoup\n",
        "import re\n",
        "\n",
        "# get the tickers from the file tickers.txt\n",
        "with open(\"dai-project/tickers.txt\", \"r\") as f:\n",
        "    tickers = f.read().splitlines()\n",
        "\n",
        "html_str = json_list[3335][\"Document\"][\"Content\"]\n",
        "text = \"\"\n",
        "if html_str:\n",
        "    soup = BeautifulSoup(html_str, 'html.parser')\n",
        "    body_tag = soup.find('nitf:body.content')\n",
        "    if body_tag:\n",
        "        text = body_tag.get_text()\n",
        "\n",
        "matches = re.findall(r'\\(([A-Za-z]+): ?([A-Z]+)\\)', text)\n",
        "print(matches)"
      ],
      "metadata": {
        "colab": {
          "base_uri": "https://localhost:8080/"
        },
        "id": "h_RxDplzTsft",
        "outputId": "7b703bc1-5200-4e3c-e023-9b4d5094f27c"
      },
      "execution_count": 31,
      "outputs": [
        {
          "output_type": "stream",
          "name": "stdout",
          "text": [
            "[]\n"
          ]
        }
      ]
    },
    {
      "cell_type": "code",
      "source": [
        "text"
      ],
      "metadata": {
        "colab": {
          "base_uri": "https://localhost:8080/",
          "height": 348
        },
        "id": "w5XxEfdQT8aN",
        "outputId": "9d08c7ad-7aed-48dd-9663-a04d4e4dea49"
      },
      "execution_count": 32,
      "outputs": [
        {
          "output_type": "execute_result",
          "data": {
            "text/plain": [
              "'Sophia Learning, an online, on-demand, self-paced learning platform providing college-level courses is partnering with Jason\\'s Deli, an award-winning fast casual restaurant, to give its full-time and part-time employees access to Sophia\\'s low-cost $99/month subscription. The subscription will include access to more than 60 high-quality general education college-level courses.The monthly subscription will be reimbursable in accordance with the tuition reimbursement policy of Jason\\'s Deli. Additionally, Jason\\'s Deli employees will be eligible to receive the tuition reimbursement benefits for multiple reimbursement cycles, including consecutively month over month.\"At Jason\\'s Deli, we recognize that financial barriers can be an obstacle for our employees who want to meet their education goals. Jason\\'s Deli is proud to launch our education benefits program with Sophia to help remove this burden for our employees,\" said Alex Cone, VP of Human Resources for Jason\\'s Deli. \"Sophia\\'s platform is a great partner for us and will allow our diverse workforce to continue to learn and excel, whenever or wherever they choose.\"Sophia is an online learning platform that allows students at any stage of their higher education journey to get started on their education or finish up their college-level courses. The courses are flexible, ACE®-recommended for college credit, and available through an affordable monthly subscription that allows students to move through courses at their own speed.Sophia currently partners with over 60 colleges and universities who have agreed to award credit for Sophia courses. Through the partnership, Jason\\'s Deli employees will be eligible to receive credit with Sophia partner institutions as well as apply for consideration at non-partner institutions.\"As more frontline workers consider going back to school, having access to affordable general education courses that are flexible and transferable will be absolutely critical for them,\" said Shawna Thayer, Chief Executive Officer of Sophia. \"We are excited to partner with Jason\\'s Deli to provide their team members with a pathway to help them advance their personal and professional goals.\"Starting today, eligible Jason\\'s Deli employees are able to apply for a Sophia subscription. For more information, visit https://app.sophia.org/jasons-deli to learn more about the partnership and its offerings.About Jason\\'s DeliA family-owned deli restaurant chain, Jason\\'s Deli was founded in Beaumont, Texas, in 1976 by Joe Tortorice Jr. and now has 250 locations in 28 states. In 2005, Jason\\'s Deli was the first major restaurant concept to ban artificial trans fats in the U.S. and later became the first to eliminate high-fructose corn syrup. At Jason\\'s Deli, whether you want gluten-sensitive menu items or vegetarian options, healthy kids\\' meals, or if you would like to build your own salad at their famous salad bar, you will be delighted by the bigger choices of better food, from healthy to indulgent. For more information, please visit jasonsdeli.com .About Sophia LearningSophia is an online learning platform that allows students at any stage of their higher education journey to get started on or continue their education by taking affordable and flexible college-level general education courses that are ACE®-recommended for college credit. Sophia students have saved more than $500 million in tuition dollars*, completed more than 500,000 courses, and have been awarded more than 1,500,000 transfer credits at receiving institutions. For more information about Sophia, visit Sophia.org . Sophia is a subsidiary of Strategic Education, Inc.* Savings based on average annual tuition at in-state, 4-year institutions, as reported by IPEDS, 2020.View source version on businesswire.com: https://www.businesswire.com/news/home/20240130903539/en/'"
            ],
            "application/vnd.google.colaboratory.intrinsic+json": {
              "type": "string"
            }
          },
          "metadata": {},
          "execution_count": 32
        }
      ]
    }
  ]
}